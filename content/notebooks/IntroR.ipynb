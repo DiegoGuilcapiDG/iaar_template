{
 "cells": [
  {
   "cell_type": "markdown",
   "metadata": {
    "deletable": true,
    "editable": true
   },
   "source": [
    "# Introducción a R para Ciencia de Datos"
   ]
  },
  {
   "cell_type": "markdown",
   "metadata": {
    "deletable": true,
    "editable": true
   },
   "source": [
    "*Esta notebook fue creada originalmente como un blog post por [Raúl E. López Briega](http://relopezbriega.github.io) para el [sitio de capacitaciones de IAAR](https://iaarhub.github.io/). El contenido esta bajo la licencia BSD.*"
   ]
  },
  {
   "cell_type": "markdown",
   "metadata": {
    "deletable": true,
    "editable": true
   },
   "source": [
    "<img title=\"R para Ciencia de Datos\" alt=\"R para Ciencia de Datos\" src=\"https://iaarhub.github.io/images/rprogramming.jpg\" high=\"400px\" width=\"600px\">"
   ]
  },
  {
   "cell_type": "markdown",
   "metadata": {
    "deletable": true,
    "editable": true
   },
   "source": [
    "## ¿Qué es R?\n",
    "\n",
    "[R](https://cloud.r-project.org/) es un lenguaje de programación [interpretado](https://es.wikipedia.org/wiki/Script) diseñado específicamente para el [análisis estadístico](http://relopezbriega.github.io/blog/2015/06/27/probabilidad-y-estadistica-con-python/) y la manipulación de datos. Esta inspirado, y es en su mayor medida compatible, por el lenguaje de programación <a href=\"https://en.wikipedia.org/wiki/S_(programming_language)\">S</a> desarrollado por AT&T. Es ampliamente utilizado en todos los campos donde se deben manipular datos, como ser: los negocios, la industria, el gobierno, la medicina, el ámbito académico, y demás.\n",
    "\n",
    "## ¿Por qué utilizar R?\n",
    "\n",
    "[R](https://cloud.r-project.org/) cuenta con varias virtudes, como ser:\n",
    "\n",
    "* Es una implementación de dominio público del lenguaje estadístico <a href=\"https://en.wikipedia.org/wiki/S_(programming_language)\">S</a>; y la plataforma R/S se ha convertido en el defecto dentro del círculo de los profesionales de la [estadística](http://relopezbriega.github.io/blog/2015/06/27/probabilidad-y-estadistica-con-python/).\n",
    "\n",
    "* Es comparable, y a menudo superior en funcionalidad a productos comerciales; ya sea en gráficas, variedad de operaciones, y algoritmos implementados.\n",
    "\n",
    "* Es multiplataforma, se encuentra disponible para los sistemas operativos Windows, Mac y Linux.\n",
    "\n",
    "* Además de proporcionar operaciones estadísticas, [R](https://cloud.r-project.org/) es un lenguaje de programación de propósito general; es decir, que puede ser utilizado para automatizar análisis y crear nuevas funciones que amplíen las funcionalidades existentes.\n",
    "\n",
    "* Incorpora características encontradas en la programación [orientados a objetos](https://es.wikipedia.org/wiki/Programaci%C3%B3n_orientada_a_objetos) y [funcional](https://es.wikipedia.org/wiki/Programaci%C3%B3n_funcional).\n",
    "\n",
    "* El sistema guarda los conjuntos de datos entre sesiones, por lo que no es necesario volver a cargar los datos cada vez que ingresamos. También guarda nuestro historial de comandos, lo que nos ahorra bastante tiempo y mejora la productividad.\n",
    "\n",
    "* Debido a que [R](https://cloud.r-project.org/) es un software de [código abierto](https://es.wikipedia.org/wiki/C%C3%B3digo_abierto), es fácil obtener ayuda de la comunidad de usuarios. Además, muchas nuevas funciones son aportadas por los usuarios, los cuales son prominentes estadísticos.\n",
    "\n",
    "Si bien existe una pequeña curva de aprendizaje, ésta es bastante mínima en comparación con otros lenguajes y programas. Asimismo existe una enorme red de colaboradores que constantemente están creando nuevos paquetes que hacen que sea mucho más fácil aplicar todo tipo de técnicas y funciones para manipular y analizar nuestros datos con la ayuda de [R](https://cloud.r-project.org/).\n",
    "\n",
    "## ¿Cómo obtengo R?\n",
    "\n",
    "Para descargar [R](https://cloud.r-project.org/), deben dirigirse a [CRAN](https://cran.r-project.org/), la red de archivos de [R](https://cloud.r-project.org/). [CRAN](https://cran.r-project.org/) se compone de un conjunto de servidores distribuidos en todo el mundo y se utiliza para distribuir [R](https://cloud.r-project.org/) junto con sus paquetes.\n",
    "\n",
    "## RStudio\n",
    "\n",
    "[RStudio](https://www.rstudio.com/) es un entorno de desarrollo integrado, o [IDE](https://es.wikipedia.org/wiki/Entorno_de_desarrollo_integrado), diseñado específicamente para la programación con [R](https://cloud.r-project.org/). [RStudio](https://www.rstudio.com/) hace que [R](https://cloud.r-project.org/) sea más fácil de usar. Incluye un editor de código, herramientas de depuración y visualización. Si estas dando tus primeros pasos con [R](https://cloud.r-project.org/), [RStudio](https://www.rstudio.com/) hace la experiencia mucho más amigable.\n",
    "\n",
    "## Breve introducción a la programación con R\n",
    "\n",
    "Ahora que ya tenemos una idea más clara de qué es [R](https://cloud.r-project.org/) y su ecosistema, llegó el momento de adentrarnos en su interfaz y ver como podemos realizar algunas operaciones básicas de programación en este lenguaje.\n",
    "\n",
    "### Vectores\n",
    "\n",
    "El tipo de dato más fundamental que vamos a encontrar en [R](https://cloud.r-project.org/) son los **vectores**."
   ]
  },
  {
   "cell_type": "code",
   "execution_count": 5,
   "metadata": {
    "collapsed": false,
    "deletable": true,
    "editable": true
   },
   "outputs": [
    {
     "data": {
      "text/html": [
       "<ol class=list-inline>\n",
       "\t<li>1</li>\n",
       "\t<li>5</li>\n",
       "\t<li>7</li>\n",
       "\t<li>12</li>\n",
       "\t<li>13</li>\n",
       "</ol>\n"
      ],
      "text/latex": [
       "\\begin{enumerate*}\n",
       "\\item 1\n",
       "\\item 5\n",
       "\\item 7\n",
       "\\item 12\n",
       "\\item 13\n",
       "\\end{enumerate*}\n"
      ],
      "text/markdown": [
       "1. 1\n",
       "2. 5\n",
       "3. 7\n",
       "4. 12\n",
       "5. 13\n",
       "\n",
       "\n"
      ],
      "text/plain": [
       "[1]  1  5  7 12 13"
      ]
     },
     "metadata": {},
     "output_type": "display_data"
    }
   ],
   "source": [
    "# creando un vector x\n",
    "x <- c(1, 5, 7, 12, 13)\n",
    "x"
   ]
  },
  {
   "cell_type": "code",
   "execution_count": 6,
   "metadata": {
    "collapsed": false,
    "deletable": true,
    "editable": true
   },
   "outputs": [
    {
     "data": {
      "text/html": [
       "<ol class=list-inline>\n",
       "\t<li>5</li>\n",
       "\t<li>7</li>\n",
       "\t<li>12</li>\n",
       "</ol>\n"
      ],
      "text/latex": [
       "\\begin{enumerate*}\n",
       "\\item 5\n",
       "\\item 7\n",
       "\\item 12\n",
       "\\end{enumerate*}\n"
      ],
      "text/markdown": [
       "1. 5\n",
       "2. 7\n",
       "3. 12\n",
       "\n",
       "\n"
      ],
      "text/plain": [
       "[1]  5  7 12"
      ]
     },
     "metadata": {},
     "output_type": "display_data"
    }
   ],
   "source": [
    "# los vectores son similares a las listas, podemos seleccionar solo\n",
    "# algunos elementos. Los índices comienzan en 1 en lugar de 0.\n",
    "x[2:4] # selecciona elementos 2 a 4"
   ]
  },
  {
   "cell_type": "code",
   "execution_count": 7,
   "metadata": {
    "collapsed": false,
    "deletable": true,
    "editable": true
   },
   "outputs": [
    {
     "data": {
      "text/html": [
       "<ol class=list-inline>\n",
       "\t<li>1</li>\n",
       "\t<li>5</li>\n",
       "\t<li>7</li>\n",
       "\t<li>99</li>\n",
       "\t<li>12</li>\n",
       "\t<li>13</li>\n",
       "</ol>\n"
      ],
      "text/latex": [
       "\\begin{enumerate*}\n",
       "\\item 1\n",
       "\\item 5\n",
       "\\item 7\n",
       "\\item 99\n",
       "\\item 12\n",
       "\\item 13\n",
       "\\end{enumerate*}\n"
      ],
      "text/markdown": [
       "1. 1\n",
       "2. 5\n",
       "3. 7\n",
       "4. 99\n",
       "5. 12\n",
       "6. 13\n",
       "\n",
       "\n"
      ],
      "text/plain": [
       "[1]  1  5  7 99 12 13"
      ]
     },
     "metadata": {},
     "output_type": "display_data"
    }
   ],
   "source": [
    "# El tamaño de un vector queda definido en su creación. Para agregar o\n",
    "# eliminar elementos hay que reasignar el vector.\n",
    "x <- c(x[1:3],99,x[4:5]) # inserta 99 entre el 7 y el 12\n",
    "x"
   ]
  },
  {
   "cell_type": "code",
   "execution_count": 8,
   "metadata": {
    "collapsed": false,
    "deletable": true,
    "editable": true
   },
   "outputs": [
    {
     "data": {
      "text/html": [
       "6"
      ],
      "text/latex": [
       "6"
      ],
      "text/markdown": [
       "6"
      ],
      "text/plain": [
       "[1] 6"
      ]
     },
     "metadata": {},
     "output_type": "display_data"
    }
   ],
   "source": [
    "# Saber el tamaño del vector con length\n",
    "length(x)"
   ]
  },
  {
   "cell_type": "code",
   "execution_count": 11,
   "metadata": {
    "collapsed": false,
    "deletable": true,
    "editable": true
   },
   "outputs": [
    {
     "data": {
      "text/html": [
       "<ol class=list-inline>\n",
       "\t<li>1</li>\n",
       "\t<li>5</li>\n",
       "\t<li>7</li>\n",
       "\t<li>12</li>\n",
       "</ol>\n"
      ],
      "text/latex": [
       "\\begin{enumerate*}\n",
       "\\item 1\n",
       "\\item 5\n",
       "\\item 7\n",
       "\\item 12\n",
       "\\end{enumerate*}\n"
      ],
      "text/markdown": [
       "1. 1\n",
       "2. 5\n",
       "3. 7\n",
       "4. 12\n",
       "\n",
       "\n"
      ],
      "text/plain": [
       "[1]  1  5  7 12"
      ]
     },
     "metadata": {},
     "output_type": "display_data"
    }
   ],
   "source": [
    "# Filtrar valores del vector menores a 13\n",
    "x[x < 13]"
   ]
  },
  {
   "cell_type": "code",
   "execution_count": 13,
   "metadata": {
    "collapsed": false,
    "deletable": true,
    "editable": true
   },
   "outputs": [
    {
     "data": {
      "text/html": [
       "'character'"
      ],
      "text/latex": [
       "'character'"
      ],
      "text/markdown": [
       "'character'"
      ],
      "text/plain": [
       "[1] \"character\""
      ]
     },
     "metadata": {},
     "output_type": "display_data"
    }
   ],
   "source": [
    "# Podemos ver el tipo de datos del vector con mode\n",
    "y <- c(1, 2, 'Pi')\n",
    "mode(y)"
   ]
  },
  {
   "cell_type": "code",
   "execution_count": 14,
   "metadata": {
    "collapsed": false,
    "deletable": true,
    "editable": true
   },
   "outputs": [
    {
     "data": {
      "text/html": [
       "'numeric'"
      ],
      "text/latex": [
       "'numeric'"
      ],
      "text/markdown": [
       "'numeric'"
      ],
      "text/plain": [
       "[1] \"numeric\""
      ]
     },
     "metadata": {},
     "output_type": "display_data"
    }
   ],
   "source": [
    "mode(x)"
   ]
  },
  {
   "cell_type": "markdown",
   "metadata": {
    "deletable": true,
    "editable": true
   },
   "source": [
    "### Matrices\n",
    "\n",
    "Una **Matriz** es un vector con dos atributos adicionales: el número de filas y el número de columnas. "
   ]
  },
  {
   "cell_type": "code",
   "execution_count": 15,
   "metadata": {
    "collapsed": false,
    "deletable": true,
    "editable": true
   },
   "outputs": [
    {
     "data": {
      "text/html": [
       "<table>\n",
       "<tbody>\n",
       "\t<tr><td>1</td><td>3</td></tr>\n",
       "\t<tr><td>2</td><td>4</td></tr>\n",
       "</tbody>\n",
       "</table>\n"
      ],
      "text/latex": [
       "\\begin{tabular}{ll}\n",
       "\t 1 & 3\\\\\n",
       "\t 2 & 4\\\\\n",
       "\\end{tabular}\n"
      ],
      "text/markdown": [
       "\n",
       "| 1 | 3 | \n",
       "| 2 | 4 | \n",
       "\n",
       "\n"
      ],
      "text/plain": [
       "     [,1] [,2]\n",
       "[1,] 1    3   \n",
       "[2,] 2    4   "
      ]
     },
     "metadata": {},
     "output_type": "display_data"
    }
   ],
   "source": [
    "# Creando la Matriz A utilizando matrix\n",
    "A <- matrix(c(1,2,3,4),nrow=2,ncol=2)\n",
    "A"
   ]
  },
  {
   "cell_type": "code",
   "execution_count": 17,
   "metadata": {
    "collapsed": false,
    "deletable": true,
    "editable": true
   },
   "outputs": [
    {
     "data": {
      "text/html": [
       "<ol class=list-inline>\n",
       "\t<li>1</li>\n",
       "\t<li>3</li>\n",
       "</ol>\n"
      ],
      "text/latex": [
       "\\begin{enumerate*}\n",
       "\\item 1\n",
       "\\item 3\n",
       "\\end{enumerate*}\n"
      ],
      "text/markdown": [
       "1. 1\n",
       "2. 3\n",
       "\n",
       "\n"
      ],
      "text/plain": [
       "[1] 1 3"
      ]
     },
     "metadata": {},
     "output_type": "display_data"
    }
   ],
   "source": [
    "# Seleccionando la fila 1\n",
    "A[1,]"
   ]
  },
  {
   "cell_type": "code",
   "execution_count": 18,
   "metadata": {
    "collapsed": false,
    "deletable": true,
    "editable": true
   },
   "outputs": [
    {
     "data": {
      "text/html": [
       "<ol class=list-inline>\n",
       "\t<li>3</li>\n",
       "\t<li>4</li>\n",
       "</ol>\n"
      ],
      "text/latex": [
       "\\begin{enumerate*}\n",
       "\\item 3\n",
       "\\item 4\n",
       "\\end{enumerate*}\n"
      ],
      "text/markdown": [
       "1. 3\n",
       "2. 4\n",
       "\n",
       "\n"
      ],
      "text/plain": [
       "[1] 3 4"
      ]
     },
     "metadata": {},
     "output_type": "display_data"
    }
   ],
   "source": [
    "# Seleccionando la columna 2\n",
    "A[,2]"
   ]
  },
  {
   "cell_type": "code",
   "execution_count": 19,
   "metadata": {
    "collapsed": false,
    "deletable": true,
    "editable": true
   },
   "outputs": [
    {
     "data": {
      "text/html": [
       "<table>\n",
       "<tbody>\n",
       "\t<tr><td>1</td><td>2</td><td>3</td></tr>\n",
       "\t<tr><td>4</td><td>5</td><td>6</td></tr>\n",
       "</tbody>\n",
       "</table>\n"
      ],
      "text/latex": [
       "\\begin{tabular}{lll}\n",
       "\t 1 & 2 & 3\\\\\n",
       "\t 4 & 5 & 6\\\\\n",
       "\\end{tabular}\n"
      ],
      "text/markdown": [
       "\n",
       "| 1 | 2 | 3 | \n",
       "| 4 | 5 | 6 | \n",
       "\n",
       "\n"
      ],
      "text/plain": [
       "     [,1] [,2] [,3]\n",
       "[1,] 1    2    3   \n",
       "[2,] 4    5    6   "
      ]
     },
     "metadata": {},
     "output_type": "display_data"
    }
   ],
   "source": [
    "# Matriz con datos ordenados por fila en lugar del comportamiento por defecto\n",
    "# en columnas. Utilizamos byrow True\n",
    "B <- matrix(c(1,2,3,4,5,6),nrow=2,byrow=T)\n",
    "B"
   ]
  },
  {
   "cell_type": "code",
   "execution_count": 20,
   "metadata": {
    "collapsed": false,
    "deletable": true,
    "editable": true
   },
   "outputs": [
    {
     "data": {
      "text/html": [
       "<table>\n",
       "<tbody>\n",
       "\t<tr><td>13</td><td>17</td><td>21</td></tr>\n",
       "\t<tr><td>18</td><td>24</td><td>30</td></tr>\n",
       "</tbody>\n",
       "</table>\n"
      ],
      "text/latex": [
       "\\begin{tabular}{lll}\n",
       "\t 13 & 17 & 21\\\\\n",
       "\t 18 & 24 & 30\\\\\n",
       "\\end{tabular}\n"
      ],
      "text/markdown": [
       "\n",
       "| 13 | 17 | 21 | \n",
       "| 18 | 24 | 30 | \n",
       "\n",
       "\n"
      ],
      "text/plain": [
       "     [,1] [,2] [,3]\n",
       "[1,] 13   17   21  \n",
       "[2,] 18   24   30  "
      ]
     },
     "metadata": {},
     "output_type": "display_data"
    }
   ],
   "source": [
    "# Multiplicación de matrices.\n",
    "A %*% B"
   ]
  },
  {
   "cell_type": "code",
   "execution_count": 21,
   "metadata": {
    "collapsed": false,
    "deletable": true,
    "editable": true
   },
   "outputs": [
    {
     "data": {
      "text/html": [
       "<table>\n",
       "<tbody>\n",
       "\t<tr><td>2 </td><td> 4</td><td> 6</td></tr>\n",
       "\t<tr><td>8 </td><td>10</td><td>12</td></tr>\n",
       "</tbody>\n",
       "</table>\n"
      ],
      "text/latex": [
       "\\begin{tabular}{lll}\n",
       "\t 2  &  4 &  6\\\\\n",
       "\t 8  & 10 & 12\\\\\n",
       "\\end{tabular}\n"
      ],
      "text/markdown": [
       "\n",
       "| 2  |  4 |  6 | \n",
       "| 8  | 10 | 12 | \n",
       "\n",
       "\n"
      ],
      "text/plain": [
       "     [,1] [,2] [,3]\n",
       "[1,] 2     4    6  \n",
       "[2,] 8    10   12  "
      ]
     },
     "metadata": {},
     "output_type": "display_data"
    }
   ],
   "source": [
    "# Multiplicación por escalar\n",
    "B * 2"
   ]
  },
  {
   "cell_type": "code",
   "execution_count": 24,
   "metadata": {
    "collapsed": false,
    "deletable": true,
    "editable": true
   },
   "outputs": [
    {
     "data": {
      "text/html": [
       "<table>\n",
       "<tbody>\n",
       "\t<tr><td>1</td><td>2</td></tr>\n",
       "\t<tr><td>4</td><td>5</td></tr>\n",
       "</tbody>\n",
       "</table>\n"
      ],
      "text/latex": [
       "\\begin{tabular}{ll}\n",
       "\t 1 & 2\\\\\n",
       "\t 4 & 5\\\\\n",
       "\\end{tabular}\n"
      ],
      "text/markdown": [
       "\n",
       "| 1 | 2 | \n",
       "| 4 | 5 | \n",
       "\n",
       "\n"
      ],
      "text/plain": [
       "     [,1] [,2]\n",
       "[1,] 1    2   \n",
       "[2,] 4    5   "
      ]
     },
     "metadata": {},
     "output_type": "display_data"
    }
   ],
   "source": [
    "# Seleccionando múltiples columnas\n",
    "B[,1:2]"
   ]
  },
  {
   "cell_type": "markdown",
   "metadata": {
    "deletable": true,
    "editable": true
   },
   "source": [
    "### Listas\n",
    "\n",
    "Las **Listas** a diferencia de los vectores, en los que todos los elementos deben ser del mismo tipo; pueden combinar objetos de distintos tipos. Son similares a los diccionarios de [Python](https://www.python.org/)."
   ]
  },
  {
   "cell_type": "code",
   "execution_count": 33,
   "metadata": {
    "collapsed": true,
    "deletable": true,
    "editable": true
   },
   "outputs": [],
   "source": [
    "# Creando una lista\n",
    "r <- list(nombre=\"Raul\", edad=35, soltero=T)"
   ]
  },
  {
   "cell_type": "code",
   "execution_count": 34,
   "metadata": {
    "collapsed": false,
    "deletable": true,
    "editable": true
   },
   "outputs": [
    {
     "data": {
      "text/html": [
       "'Raul'"
      ],
      "text/latex": [
       "'Raul'"
      ],
      "text/markdown": [
       "'Raul'"
      ],
      "text/plain": [
       "[1] \"Raul\""
      ]
     },
     "metadata": {},
     "output_type": "display_data"
    }
   ],
   "source": [
    "# Accediendo a los elementos de la lista\n",
    "r$nombre"
   ]
  },
  {
   "cell_type": "code",
   "execution_count": 35,
   "metadata": {
    "collapsed": false,
    "deletable": true,
    "editable": true
   },
   "outputs": [
    {
     "data": {
      "text/html": [
       "35"
      ],
      "text/latex": [
       "35"
      ],
      "text/markdown": [
       "35"
      ],
      "text/plain": [
       "[1] 35"
      ]
     },
     "metadata": {},
     "output_type": "display_data"
    }
   ],
   "source": [
    "r$edad"
   ]
  },
  {
   "cell_type": "code",
   "execution_count": 36,
   "metadata": {
    "collapsed": false,
    "deletable": true,
    "editable": true
   },
   "outputs": [
    {
     "data": {
      "text/html": [
       "TRUE"
      ],
      "text/latex": [
       "TRUE"
      ],
      "text/markdown": [
       "TRUE"
      ],
      "text/plain": [
       "[1] TRUE"
      ]
     },
     "metadata": {},
     "output_type": "display_data"
    }
   ],
   "source": [
    "r$soltero"
   ]
  },
  {
   "cell_type": "code",
   "execution_count": 37,
   "metadata": {
    "collapsed": false,
    "deletable": true,
    "editable": true
   },
   "outputs": [
    {
     "data": {
      "text/html": [
       "<dl>\n",
       "\t<dt>$nombre</dt>\n",
       "\t\t<dd>'Raul'</dd>\n",
       "\t<dt>$edad</dt>\n",
       "\t\t<dd>35</dd>\n",
       "\t<dt>$soltero</dt>\n",
       "\t\t<dd>TRUE</dd>\n",
       "\t<dt>$ciudad</dt>\n",
       "\t\t<dd>'Buenos Aires'</dd>\n",
       "</dl>\n"
      ],
      "text/latex": [
       "\\begin{description}\n",
       "\\item[\\$nombre] 'Raul'\n",
       "\\item[\\$edad] 35\n",
       "\\item[\\$soltero] TRUE\n",
       "\\item[\\$ciudad] 'Buenos Aires'\n",
       "\\end{description}\n"
      ],
      "text/markdown": [
       "$nombre\n",
       ":   'Raul'\n",
       "$edad\n",
       ":   35\n",
       "$soltero\n",
       ":   TRUE\n",
       "$ciudad\n",
       ":   'Buenos Aires'\n",
       "\n",
       "\n"
      ],
      "text/plain": [
       "$nombre\n",
       "[1] \"Raul\"\n",
       "\n",
       "$edad\n",
       "[1] 35\n",
       "\n",
       "$soltero\n",
       "[1] TRUE\n",
       "\n",
       "$ciudad\n",
       "[1] \"Buenos Aires\"\n"
      ]
     },
     "metadata": {},
     "output_type": "display_data"
    }
   ],
   "source": [
    "# Agregando un elemento\n",
    "r$ciudad <- \"Buenos Aires\"\n",
    "r"
   ]
  },
  {
   "cell_type": "code",
   "execution_count": 38,
   "metadata": {
    "collapsed": false,
    "deletable": true,
    "editable": true
   },
   "outputs": [
    {
     "data": {
      "text/html": [
       "<ol class=list-inline>\n",
       "\t<li>'nombre'</li>\n",
       "\t<li>'edad'</li>\n",
       "\t<li>'soltero'</li>\n",
       "\t<li>'ciudad'</li>\n",
       "</ol>\n"
      ],
      "text/latex": [
       "\\begin{enumerate*}\n",
       "\\item 'nombre'\n",
       "\\item 'edad'\n",
       "\\item 'soltero'\n",
       "\\item 'ciudad'\n",
       "\\end{enumerate*}\n"
      ],
      "text/markdown": [
       "1. 'nombre'\n",
       "2. 'edad'\n",
       "3. 'soltero'\n",
       "4. 'ciudad'\n",
       "\n",
       "\n"
      ],
      "text/plain": [
       "[1] \"nombre\"  \"edad\"    \"soltero\" \"ciudad\" "
      ]
     },
     "metadata": {},
     "output_type": "display_data"
    }
   ],
   "source": [
    "# Accediendo a los indices con names\n",
    "names(r)"
   ]
  },
  {
   "cell_type": "markdown",
   "metadata": {
    "deletable": true,
    "editable": true
   },
   "source": [
    "### Factores\n",
    "\n",
    "Los **Factores** constituyen la base de muchas de las potentes operaciones que podemos realizar con [R](https://cloud.r-project.org/), incluyendo las realizadas sobre datos tabulares. La motivación para los factores proviene de la noción de [variables nominales o categóricas](http://relopezbriega.github.io/blog/2016/02/29/analisis-de-datos-categoricos-con-python/) en las [estadísticas](http://relopezbriega.github.io/blog/2015/06/27/probabilidad-y-estadistica-con-python/). Se caracteriza por dividir los datos en niveles o clases."
   ]
  },
  {
   "cell_type": "code",
   "execution_count": 2,
   "metadata": {
    "collapsed": false,
    "deletable": true,
    "editable": true
   },
   "outputs": [
    {
     "name": "stdout",
     "output_type": "stream",
     "text": [
      " Factor w/ 4 levels \"4\",\"5\",\"7\",\"12\": 1 2 4 4 2 4 1 3\n"
     ]
    }
   ],
   "source": [
    "# Ejemplo de factores con 4 niveles\n",
    "x <- c(4, 5, 12, 12, 5, 12, 4, 7)\n",
    "y <- factor(x)\n",
    "str(y)"
   ]
  },
  {
   "cell_type": "markdown",
   "metadata": {
    "deletable": true,
    "editable": true
   },
   "source": [
    "### Data Frame\n",
    "\n",
    "El **DataFrame** es similar a una matriz, tiene una estructura bidimensional de filas y columnas. Sin embargo, difiere de una matriz en que cada columna puede tener un tipo de datos diferente. Por ejemplo, una columna puede consistir en números y otra columna puede tener una cadena de caracteres. En este sentido, así como las listas son los análogos heterogéneos de vectores en una dimensión, los DataFrame son los análogos heterogéneos de matrices para datos bidimensionales."
   ]
  },
  {
   "cell_type": "code",
   "execution_count": 4,
   "metadata": {
    "collapsed": false,
    "deletable": true,
    "editable": true
   },
   "outputs": [
    {
     "data": {
      "text/html": [
       "<table>\n",
       "<thead><tr><th scope=col>nombres</th><th scope=col>edades</th></tr></thead>\n",
       "<tbody>\n",
       "\t<tr><td>Raul    </td><td>13      </td></tr>\n",
       "\t<tr><td>Ezequiel</td><td>18      </td></tr>\n",
       "</tbody>\n",
       "</table>\n"
      ],
      "text/latex": [
       "\\begin{tabular}{r|ll}\n",
       " nombres & edades\\\\\n",
       "\\hline\n",
       "\t Raul     & 13      \\\\\n",
       "\t Ezequiel & 18      \\\\\n",
       "\\end{tabular}\n"
      ],
      "text/markdown": [
       "\n",
       "nombres | edades | \n",
       "|---|---|\n",
       "| Raul     | 13       | \n",
       "| Ezequiel | 18       | \n",
       "\n",
       "\n"
      ],
      "text/plain": [
       "  nombres  edades\n",
       "1 Raul     13    \n",
       "2 Ezequiel 18    "
      ]
     },
     "metadata": {},
     "output_type": "display_data"
    }
   ],
   "source": [
    "# Creando un DataFrame\n",
    "nombres <- c(\"Raul\",\"Ezequiel\")\n",
    "edades <- c(13,18)\n",
    "d <- data.frame(nombres, edades)\n",
    "d"
   ]
  },
  {
   "cell_type": "code",
   "execution_count": 5,
   "metadata": {
    "collapsed": false,
    "deletable": true,
    "editable": true
   },
   "outputs": [
    {
     "name": "stdout",
     "output_type": "stream",
     "text": [
      "'data.frame':\t2 obs. of  2 variables:\n",
      " $ nombres: Factor w/ 2 levels \"Ezequiel\",\"Raul\": 2 1\n",
      " $ edades : num  13 18\n"
     ]
    }
   ],
   "source": [
    "str(d)"
   ]
  },
  {
   "cell_type": "code",
   "execution_count": 6,
   "metadata": {
    "collapsed": false
   },
   "outputs": [
    {
     "data": {
      "text/html": [
       "<ol class=list-inline>\n",
       "\t<li>13</li>\n",
       "\t<li>18</li>\n",
       "</ol>\n"
      ],
      "text/latex": [
       "\\begin{enumerate*}\n",
       "\\item 13\n",
       "\\item 18\n",
       "\\end{enumerate*}\n"
      ],
      "text/markdown": [
       "1. 13\n",
       "2. 18\n",
       "\n",
       "\n"
      ],
      "text/plain": [
       "[1] 13 18"
      ]
     },
     "metadata": {},
     "output_type": "display_data"
    }
   ],
   "source": [
    "# Accediendo las columnas\n",
    "d$edades"
   ]
  },
  {
   "cell_type": "code",
   "execution_count": 7,
   "metadata": {
    "collapsed": false
   },
   "outputs": [
    {
     "data": {
      "text/html": [
       "<table>\n",
       "<thead><tr><th scope=col>nombres</th><th scope=col>edades</th></tr></thead>\n",
       "<tbody>\n",
       "\t<tr><td>Raul</td><td>13  </td></tr>\n",
       "</tbody>\n",
       "</table>\n"
      ],
      "text/latex": [
       "\\begin{tabular}{r|ll}\n",
       " nombres & edades\\\\\n",
       "\\hline\n",
       "\t Raul & 13  \\\\\n",
       "\\end{tabular}\n"
      ],
      "text/markdown": [
       "\n",
       "nombres | edades | \n",
       "|---|\n",
       "| Raul | 13   | \n",
       "\n",
       "\n"
      ],
      "text/plain": [
       "  nombres edades\n",
       "1 Raul    13    "
      ]
     },
     "metadata": {},
     "output_type": "display_data"
    }
   ],
   "source": [
    "# Accediendo filas\n",
    "d[1,]"
   ]
  },
  {
   "cell_type": "markdown",
   "metadata": {
    "deletable": true,
    "editable": true
   },
   "source": [
    "### Paquetes\n",
    "\n",
    "Una de las mayores ventajas de [R](https://cloud.r-project.org/) es que podemos encontrar miles de paquetes escritos por usuarios en [CRAN](https://cran.r-project.org/). Un paquete de [R](https://cloud.r-project.org/) es una colección de funciones, datos y documentación que amplía las capacidades de la base o core de [R](https://cloud.r-project.org/). El uso de paquetes es clave para utilizar exitosamente [R](https://cloud.r-project.org/)."
   ]
  },
  {
   "cell_type": "code",
   "execution_count": 9,
   "metadata": {
    "collapsed": false,
    "deletable": true,
    "editable": true
   },
   "outputs": [
    {
     "data": {
      "text/html": [
       "<ol class=list-inline>\n",
       "\t<li>'/usr/lib/R/library/stats'</li>\n",
       "\t<li>'/usr/lib/R/library/graphics'</li>\n",
       "\t<li>'/usr/lib/R/library/grDevices'</li>\n",
       "\t<li>'/usr/lib/R/library/utils'</li>\n",
       "\t<li>'/usr/lib/R/library/datasets'</li>\n",
       "\t<li>'/usr/lib/R/library/methods'</li>\n",
       "\t<li>'/usr/lib/R/library/base'</li>\n",
       "</ol>\n"
      ],
      "text/latex": [
       "\\begin{enumerate*}\n",
       "\\item '/usr/lib/R/library/stats'\n",
       "\\item '/usr/lib/R/library/graphics'\n",
       "\\item '/usr/lib/R/library/grDevices'\n",
       "\\item '/usr/lib/R/library/utils'\n",
       "\\item '/usr/lib/R/library/datasets'\n",
       "\\item '/usr/lib/R/library/methods'\n",
       "\\item '/usr/lib/R/library/base'\n",
       "\\end{enumerate*}\n"
      ],
      "text/markdown": [
       "1. '/usr/lib/R/library/stats'\n",
       "2. '/usr/lib/R/library/graphics'\n",
       "3. '/usr/lib/R/library/grDevices'\n",
       "4. '/usr/lib/R/library/utils'\n",
       "5. '/usr/lib/R/library/datasets'\n",
       "6. '/usr/lib/R/library/methods'\n",
       "7. '/usr/lib/R/library/base'\n",
       "\n",
       "\n"
      ],
      "text/plain": [
       "[1] \"/usr/lib/R/library/stats\"     \"/usr/lib/R/library/graphics\" \n",
       "[3] \"/usr/lib/R/library/grDevices\" \"/usr/lib/R/library/utils\"    \n",
       "[5] \"/usr/lib/R/library/datasets\"  \"/usr/lib/R/library/methods\"  \n",
       "[7] \"/usr/lib/R/library/base\"     "
      ]
     },
     "metadata": {},
     "output_type": "display_data"
    }
   ],
   "source": [
    "# Para controlar los paquetes que se encuentran cargados\n",
    "path.package()"
   ]
  },
  {
   "cell_type": "code",
   "execution_count": 11,
   "metadata": {
    "collapsed": false,
    "deletable": true,
    "editable": true
   },
   "outputs": [
    {
     "name": "stderr",
     "output_type": "stream",
     "text": [
      "Installing packages into ‘/home/raul/R/x86_64-pc-linux-gnu-library/3.3’\n",
      "(as ‘lib’ is unspecified)\n",
      "also installing the dependencies ‘quadprog’, ‘tseries’, ‘fracdiff’, ‘lmtest’, ‘timeDate’, ‘RcppArmadillo’\n",
      "\n"
     ]
    }
   ],
   "source": [
    "# Para instalar paquetes\n",
    "install.packages(c(\"outliers\", \"forecast\"))"
   ]
  },
  {
   "cell_type": "code",
   "execution_count": 12,
   "metadata": {
    "collapsed": true,
    "deletable": true,
    "editable": true
   },
   "outputs": [],
   "source": [
    "# Para cargar el paquete\n",
    "library(forecast)"
   ]
  },
  {
   "cell_type": "markdown",
   "metadata": {
    "deletable": true,
    "editable": true
   },
   "source": [
    "## Librerías para Ciencia de datos\n",
    "\n",
    "Bien, luego de este paseo por las principales estructuras de datos que podemos encontrar en [R](https://cloud.r-project.org/), llegó el momento de adentrarnos en el fascinante mundo de la ciencia de datos. Algunas de las librerías que se han vuelto sumamente útiles para analizar y manipular datos con [R](https://cloud.r-project.org/), son las siguientes:\n",
    "\n",
    "### Tidyverse\n",
    "\n",
    "Una de las tareas más importantes en cualquier proceso de análisis de datos consiste en ordenarlos y darles una estructura. En general recibimos datos en crudo y debemos procesarlos para poder luego utilizarlos en nuestros modelos. Si de explorar, ordenar y analizar datos se trata el paquete [tidiverse](https://cran.r-project.org/web/packages/tidyverse/index.html) es fundamental. Este paquete incluye las librerías ggplot2, tibble, tidyr, readr, purrr, y dplyr; las cuales comparten una filosofía propia y están diseñados para trabajar naturalmente entre ellos. Veamos algunos ejemplos:\n",
    "\n",
    "### Data.table\n",
    "\n",
    "Si de organizar grandes volúmenes de datos de una manera intuitiva se trata, [data.table](https://cran.r-project.org/web/packages/data.table/index.html) es el paquete indicado. Esta librería nos extiende la estructura de datos del dataFrame para poder trabajar con archivos realmente extensos, y poder realizar operaciones de agregado, agrupado y uniones de una forma más sencilla.\n",
    "\n",
    "### Outliers\n",
    "\n",
    "Si lo que necesitamos es encontrar valores atípicos, entonces [outliers](https://cran.r-project.org/web/packages/outliers/index.html) es el paquete que debemos utilizar. Esta librería nos ofrece varias funciones y test para poder identificar los valores atípicos.   \n",
    "\n",
    "### Survival\n",
    "\n",
    "[Survival](https://cran.r-project.org/web/packages/survival/index.html) es un paquete que nos facilita la tarea de realizar [análisis de supervivencia](https://es.wikipedia.org/wiki/An%C3%A1lisis_de_la_supervivencia). \n",
    "\n",
    "### Forecast\n",
    "\n",
    "### Caret\n",
    "\n",
    "### randomForest\n",
    "\n",
    "### nnet\n",
    "\n",
    "### igraph\n",
    "\n",
    "### rpart\n",
    "\n",
    "### Reshape2"
   ]
  },
  {
   "cell_type": "code",
   "execution_count": null,
   "metadata": {
    "collapsed": true,
    "deletable": true,
    "editable": true
   },
   "outputs": [],
   "source": []
  },
  {
   "cell_type": "code",
   "execution_count": null,
   "metadata": {
    "collapsed": true,
    "deletable": true,
    "editable": true
   },
   "outputs": [],
   "source": []
  },
  {
   "cell_type": "code",
   "execution_count": 1,
   "metadata": {
    "collapsed": false,
    "deletable": true,
    "editable": true
   },
   "outputs": [
    {
     "name": "stderr",
     "output_type": "stream",
     "text": [
      "Loading tidyverse: ggplot2\n",
      "Loading tidyverse: tibble\n",
      "Loading tidyverse: tidyr\n",
      "Loading tidyverse: readr\n",
      "Loading tidyverse: purrr\n",
      "Loading tidyverse: dplyr\n",
      "Conflicts with tidy packages ---------------------------------------------------\n",
      "filter(): dplyr, stats\n",
      "lag():    dplyr, stats\n"
     ]
    }
   ],
   "source": [
    "# importando librerías\n",
    "library(tidyverse)"
   ]
  },
  {
   "cell_type": "code",
   "execution_count": 2,
   "metadata": {
    "collapsed": false,
    "deletable": true,
    "editable": true
   },
   "outputs": [
    {
     "data": {
      "text/html": [
       "<ol class=list-inline>\n",
       "\t<li>0.0572257403505243</li>\n",
       "\t<li>-0.88935670271409</li>\n",
       "\t<li>0.169895321299748</li>\n",
       "\t<li>-0.463956381205281</li>\n",
       "\t<li>1.37694464235759</li>\n",
       "\t<li>0.17539440910258</li>\n",
       "\t<li>-0.426920740411065</li>\n",
       "\t<li>-1.38493766247057</li>\n",
       "\t<li>-0.409747125395865</li>\n",
       "\t<li>0.876613776082417</li>\n",
       "</ol>\n"
      ],
      "text/latex": [
       "\\begin{enumerate*}\n",
       "\\item 0.0572257403505243\n",
       "\\item -0.88935670271409\n",
       "\\item 0.169895321299748\n",
       "\\item -0.463956381205281\n",
       "\\item 1.37694464235759\n",
       "\\item 0.17539440910258\n",
       "\\item -0.426920740411065\n",
       "\\item -1.38493766247057\n",
       "\\item -0.409747125395865\n",
       "\\item 0.876613776082417\n",
       "\\end{enumerate*}\n"
      ],
      "text/markdown": [
       "1. 0.0572257403505243\n",
       "2. -0.88935670271409\n",
       "3. 0.169895321299748\n",
       "4. -0.463956381205281\n",
       "5. 1.37694464235759\n",
       "6. 0.17539440910258\n",
       "7. -0.426920740411065\n",
       "8. -1.38493766247057\n",
       "9. -0.409747125395865\n",
       "10. 0.876613776082417\n",
       "\n",
       "\n"
      ],
      "text/plain": [
       " [1]  0.05722574 -0.88935670  0.16989532 -0.46395638  1.37694464  0.17539441\n",
       " [7] -0.42692074 -1.38493766 -0.40974713  0.87661378"
      ]
     },
     "metadata": {},
     "output_type": "display_data"
    }
   ],
   "source": [
    "x"
   ]
  },
  {
   "cell_type": "code",
   "execution_count": 3,
   "metadata": {
    "collapsed": false,
    "deletable": true,
    "editable": true
   },
   "outputs": [
    {
     "data": {
      "text/html": [
       "<ol class=list-inline>\n",
       "\t<li>0.0182113907222413</li>\n",
       "\t<li>-0.376818075705727</li>\n",
       "\t<li>-0.98314498791684</li>\n",
       "\t<li>0.367988294273172</li>\n",
       "\t<li>1.48262098174089</li>\n",
       "\t<li>0.0604205519143153</li>\n",
       "\t<li>-0.838869788513867</li>\n",
       "\t<li>-0.456287347105045</li>\n",
       "\t<li>0.29995601306228</li>\n",
       "\t<li>0.663039748493058</li>\n",
       "</ol>\n"
      ],
      "text/latex": [
       "\\begin{enumerate*}\n",
       "\\item 0.0182113907222413\n",
       "\\item -0.376818075705727\n",
       "\\item -0.98314498791684\n",
       "\\item 0.367988294273172\n",
       "\\item 1.48262098174089\n",
       "\\item 0.0604205519143153\n",
       "\\item -0.838869788513867\n",
       "\\item -0.456287347105045\n",
       "\\item 0.29995601306228\n",
       "\\item 0.663039748493058\n",
       "\\end{enumerate*}\n"
      ],
      "text/markdown": [
       "1. 0.0182113907222413\n",
       "2. -0.376818075705727\n",
       "3. -0.98314498791684\n",
       "4. 0.367988294273172\n",
       "5. 1.48262098174089\n",
       "6. 0.0604205519143153\n",
       "7. -0.838869788513867\n",
       "8. -0.456287347105045\n",
       "9. 0.29995601306228\n",
       "10. 0.663039748493058\n",
       "\n",
       "\n"
      ],
      "text/plain": [
       " [1]  0.01821139 -0.37681808 -0.98314499  0.36798829  1.48262098  0.06042055\n",
       " [7] -0.83886979 -0.45628735  0.29995601  0.66303975"
      ]
     },
     "metadata": {},
     "output_type": "display_data"
    }
   ],
   "source": [
    "y"
   ]
  },
  {
   "cell_type": "code",
   "execution_count": 4,
   "metadata": {
    "collapsed": false,
    "deletable": true,
    "editable": true
   },
   "outputs": [
    {
     "data": {
      "image/png": "[encoded data removed]",
      "text/plain": [
       "plot without title"
      ]
     },
     "metadata": {},
     "output_type": "display_data"
    }
   ],
   "source": [
    "plot(x, y)"
   ]
  },
  {
   "cell_type": "code",
   "execution_count": 2,
   "metadata": {
    "collapsed": false,
    "deletable": true,
    "editable": true
   },
   "outputs": [
    {
     "data": {},
     "metadata": {},
     "output_type": "display_data"
    },
    {
     "data": {
      "image/png": "[encoded data removed]",
      "text/plain": [
       "plot without title"
      ]
     },
     "metadata": {},
     "output_type": "display_data"
    }
   ],
   "source": [
    "qplot(wt, mpg, data=mtcars, geom=c(\"point\", \"smooth\"), \n",
    "   color=cyl, \n",
    "   main=\"Regression of MPG on Weight\", \n",
    "   xlab=\"Weight\", ylab=\"Miles per Gallon\")"
   ]
  },
  {
   "cell_type": "code",
   "execution_count": 7,
   "metadata": {
    "collapsed": false,
    "deletable": true,
    "editable": true
   },
   "outputs": [
    {
     "data": {
      "text/html": [
       "<table>\n",
       "<thead><tr><th></th><th scope=col>mpg</th><th scope=col>cyl</th><th scope=col>disp</th><th scope=col>hp</th><th scope=col>drat</th><th scope=col>wt</th><th scope=col>qsec</th><th scope=col>vs</th><th scope=col>am</th><th scope=col>gear</th><th scope=col>carb</th></tr></thead>\n",
       "<tbody>\n",
       "\t<tr><th scope=row>Mazda RX4</th><td>21.0 </td><td>6    </td><td>160.0</td><td>110  </td><td>3.90 </td><td>2.620</td><td>16.46</td><td>0    </td><td>1    </td><td>4    </td><td>4    </td></tr>\n",
       "\t<tr><th scope=row>Mazda RX4 Wag</th><td>21.0 </td><td>6    </td><td>160.0</td><td>110  </td><td>3.90 </td><td>2.875</td><td>17.02</td><td>0    </td><td>1    </td><td>4    </td><td>4    </td></tr>\n",
       "\t<tr><th scope=row>Datsun 710</th><td>22.8 </td><td>4    </td><td>108.0</td><td> 93  </td><td>3.85 </td><td>2.320</td><td>18.61</td><td>1    </td><td>1    </td><td>4    </td><td>1    </td></tr>\n",
       "\t<tr><th scope=row>Hornet 4 Drive</th><td>21.4 </td><td>6    </td><td>258.0</td><td>110  </td><td>3.08 </td><td>3.215</td><td>19.44</td><td>1    </td><td>0    </td><td>3    </td><td>1    </td></tr>\n",
       "\t<tr><th scope=row>Hornet Sportabout</th><td>18.7 </td><td>8    </td><td>360.0</td><td>175  </td><td>3.15 </td><td>3.440</td><td>17.02</td><td>0    </td><td>0    </td><td>3    </td><td>2    </td></tr>\n",
       "\t<tr><th scope=row>Valiant</th><td>18.1 </td><td>6    </td><td>225.0</td><td>105  </td><td>2.76 </td><td>3.460</td><td>20.22</td><td>1    </td><td>0    </td><td>3    </td><td>1    </td></tr>\n",
       "\t<tr><th scope=row>Duster 360</th><td>14.3 </td><td>8    </td><td>360.0</td><td>245  </td><td>3.21 </td><td>3.570</td><td>15.84</td><td>0    </td><td>0    </td><td>3    </td><td>4    </td></tr>\n",
       "\t<tr><th scope=row>Merc 240D</th><td>24.4 </td><td>4    </td><td>146.7</td><td> 62  </td><td>3.69 </td><td>3.190</td><td>20.00</td><td>1    </td><td>0    </td><td>4    </td><td>2    </td></tr>\n",
       "\t<tr><th scope=row>Merc 230</th><td>22.8 </td><td>4    </td><td>140.8</td><td> 95  </td><td>3.92 </td><td>3.150</td><td>22.90</td><td>1    </td><td>0    </td><td>4    </td><td>2    </td></tr>\n",
       "\t<tr><th scope=row>Merc 280</th><td>19.2 </td><td>6    </td><td>167.6</td><td>123  </td><td>3.92 </td><td>3.440</td><td>18.30</td><td>1    </td><td>0    </td><td>4    </td><td>4    </td></tr>\n",
       "\t<tr><th scope=row>Merc 280C</th><td>17.8 </td><td>6    </td><td>167.6</td><td>123  </td><td>3.92 </td><td>3.440</td><td>18.90</td><td>1    </td><td>0    </td><td>4    </td><td>4    </td></tr>\n",
       "\t<tr><th scope=row>Merc 450SE</th><td>16.4 </td><td>8    </td><td>275.8</td><td>180  </td><td>3.07 </td><td>4.070</td><td>17.40</td><td>0    </td><td>0    </td><td>3    </td><td>3    </td></tr>\n",
       "\t<tr><th scope=row>Merc 450SL</th><td>17.3 </td><td>8    </td><td>275.8</td><td>180  </td><td>3.07 </td><td>3.730</td><td>17.60</td><td>0    </td><td>0    </td><td>3    </td><td>3    </td></tr>\n",
       "\t<tr><th scope=row>Merc 450SLC</th><td>15.2 </td><td>8    </td><td>275.8</td><td>180  </td><td>3.07 </td><td>3.780</td><td>18.00</td><td>0    </td><td>0    </td><td>3    </td><td>3    </td></tr>\n",
       "\t<tr><th scope=row>Cadillac Fleetwood</th><td>10.4 </td><td>8    </td><td>472.0</td><td>205  </td><td>2.93 </td><td>5.250</td><td>17.98</td><td>0    </td><td>0    </td><td>3    </td><td>4    </td></tr>\n",
       "\t<tr><th scope=row>Lincoln Continental</th><td>10.4 </td><td>8    </td><td>460.0</td><td>215  </td><td>3.00 </td><td>5.424</td><td>17.82</td><td>0    </td><td>0    </td><td>3    </td><td>4    </td></tr>\n",
       "\t<tr><th scope=row>Chrysler Imperial</th><td>14.7 </td><td>8    </td><td>440.0</td><td>230  </td><td>3.23 </td><td>5.345</td><td>17.42</td><td>0    </td><td>0    </td><td>3    </td><td>4    </td></tr>\n",
       "\t<tr><th scope=row>Fiat 128</th><td>32.4 </td><td>4    </td><td> 78.7</td><td> 66  </td><td>4.08 </td><td>2.200</td><td>19.47</td><td>1    </td><td>1    </td><td>4    </td><td>1    </td></tr>\n",
       "\t<tr><th scope=row>Honda Civic</th><td>30.4 </td><td>4    </td><td> 75.7</td><td> 52  </td><td>4.93 </td><td>1.615</td><td>18.52</td><td>1    </td><td>1    </td><td>4    </td><td>2    </td></tr>\n",
       "\t<tr><th scope=row>Toyota Corolla</th><td>33.9 </td><td>4    </td><td> 71.1</td><td> 65  </td><td>4.22 </td><td>1.835</td><td>19.90</td><td>1    </td><td>1    </td><td>4    </td><td>1    </td></tr>\n",
       "\t<tr><th scope=row>Toyota Corona</th><td>21.5 </td><td>4    </td><td>120.1</td><td> 97  </td><td>3.70 </td><td>2.465</td><td>20.01</td><td>1    </td><td>0    </td><td>3    </td><td>1    </td></tr>\n",
       "\t<tr><th scope=row>Dodge Challenger</th><td>15.5 </td><td>8    </td><td>318.0</td><td>150  </td><td>2.76 </td><td>3.520</td><td>16.87</td><td>0    </td><td>0    </td><td>3    </td><td>2    </td></tr>\n",
       "\t<tr><th scope=row>AMC Javelin</th><td>15.2 </td><td>8    </td><td>304.0</td><td>150  </td><td>3.15 </td><td>3.435</td><td>17.30</td><td>0    </td><td>0    </td><td>3    </td><td>2    </td></tr>\n",
       "\t<tr><th scope=row>Camaro Z28</th><td>13.3 </td><td>8    </td><td>350.0</td><td>245  </td><td>3.73 </td><td>3.840</td><td>15.41</td><td>0    </td><td>0    </td><td>3    </td><td>4    </td></tr>\n",
       "\t<tr><th scope=row>Pontiac Firebird</th><td>19.2 </td><td>8    </td><td>400.0</td><td>175  </td><td>3.08 </td><td>3.845</td><td>17.05</td><td>0    </td><td>0    </td><td>3    </td><td>2    </td></tr>\n",
       "\t<tr><th scope=row>Fiat X1-9</th><td>27.3 </td><td>4    </td><td> 79.0</td><td> 66  </td><td>4.08 </td><td>1.935</td><td>18.90</td><td>1    </td><td>1    </td><td>4    </td><td>1    </td></tr>\n",
       "\t<tr><th scope=row>Porsche 914-2</th><td>26.0 </td><td>4    </td><td>120.3</td><td> 91  </td><td>4.43 </td><td>2.140</td><td>16.70</td><td>0    </td><td>1    </td><td>5    </td><td>2    </td></tr>\n",
       "\t<tr><th scope=row>Lotus Europa</th><td>30.4 </td><td>4    </td><td> 95.1</td><td>113  </td><td>3.77 </td><td>1.513</td><td>16.90</td><td>1    </td><td>1    </td><td>5    </td><td>2    </td></tr>\n",
       "\t<tr><th scope=row>Ford Pantera L</th><td>15.8 </td><td>8    </td><td>351.0</td><td>264  </td><td>4.22 </td><td>3.170</td><td>14.50</td><td>0    </td><td>1    </td><td>5    </td><td>4    </td></tr>\n",
       "\t<tr><th scope=row>Ferrari Dino</th><td>19.7 </td><td>6    </td><td>145.0</td><td>175  </td><td>3.62 </td><td>2.770</td><td>15.50</td><td>0    </td><td>1    </td><td>5    </td><td>6    </td></tr>\n",
       "\t<tr><th scope=row>Maserati Bora</th><td>15.0 </td><td>8    </td><td>301.0</td><td>335  </td><td>3.54 </td><td>3.570</td><td>14.60</td><td>0    </td><td>1    </td><td>5    </td><td>8    </td></tr>\n",
       "\t<tr><th scope=row>Volvo 142E</th><td>21.4 </td><td>4    </td><td>121.0</td><td>109  </td><td>4.11 </td><td>2.780</td><td>18.60</td><td>1    </td><td>1    </td><td>4    </td><td>2    </td></tr>\n",
       "</tbody>\n",
       "</table>\n"
      ],
      "text/latex": [
       "\\begin{tabular}{r|lllllllllll}\n",
       "  & mpg & cyl & disp & hp & drat & wt & qsec & vs & am & gear & carb\\\\\n",
       "\\hline\n",
       "\tMazda RX4 & 21.0  & 6     & 160.0 & 110   & 3.90  & 2.620 & 16.46 & 0     & 1     & 4     & 4    \\\\\n",
       "\tMazda RX4 Wag & 21.0  & 6     & 160.0 & 110   & 3.90  & 2.875 & 17.02 & 0     & 1     & 4     & 4    \\\\\n",
       "\tDatsun 710 & 22.8  & 4     & 108.0 &  93   & 3.85  & 2.320 & 18.61 & 1     & 1     & 4     & 1    \\\\\n",
       "\tHornet 4 Drive & 21.4  & 6     & 258.0 & 110   & 3.08  & 3.215 & 19.44 & 1     & 0     & 3     & 1    \\\\\n",
       "\tHornet Sportabout & 18.7  & 8     & 360.0 & 175   & 3.15  & 3.440 & 17.02 & 0     & 0     & 3     & 2    \\\\\n",
       "\tValiant & 18.1  & 6     & 225.0 & 105   & 2.76  & 3.460 & 20.22 & 1     & 0     & 3     & 1    \\\\\n",
       "\tDuster 360 & 14.3  & 8     & 360.0 & 245   & 3.21  & 3.570 & 15.84 & 0     & 0     & 3     & 4    \\\\\n",
       "\tMerc 240D & 24.4  & 4     & 146.7 &  62   & 3.69  & 3.190 & 20.00 & 1     & 0     & 4     & 2    \\\\\n",
       "\tMerc 230 & 22.8  & 4     & 140.8 &  95   & 3.92  & 3.150 & 22.90 & 1     & 0     & 4     & 2    \\\\\n",
       "\tMerc 280 & 19.2  & 6     & 167.6 & 123   & 3.92  & 3.440 & 18.30 & 1     & 0     & 4     & 4    \\\\\n",
       "\tMerc 280C & 17.8  & 6     & 167.6 & 123   & 3.92  & 3.440 & 18.90 & 1     & 0     & 4     & 4    \\\\\n",
       "\tMerc 450SE & 16.4  & 8     & 275.8 & 180   & 3.07  & 4.070 & 17.40 & 0     & 0     & 3     & 3    \\\\\n",
       "\tMerc 450SL & 17.3  & 8     & 275.8 & 180   & 3.07  & 3.730 & 17.60 & 0     & 0     & 3     & 3    \\\\\n",
       "\tMerc 450SLC & 15.2  & 8     & 275.8 & 180   & 3.07  & 3.780 & 18.00 & 0     & 0     & 3     & 3    \\\\\n",
       "\tCadillac Fleetwood & 10.4  & 8     & 472.0 & 205   & 2.93  & 5.250 & 17.98 & 0     & 0     & 3     & 4    \\\\\n",
       "\tLincoln Continental & 10.4  & 8     & 460.0 & 215   & 3.00  & 5.424 & 17.82 & 0     & 0     & 3     & 4    \\\\\n",
       "\tChrysler Imperial & 14.7  & 8     & 440.0 & 230   & 3.23  & 5.345 & 17.42 & 0     & 0     & 3     & 4    \\\\\n",
       "\tFiat 128 & 32.4  & 4     &  78.7 &  66   & 4.08  & 2.200 & 19.47 & 1     & 1     & 4     & 1    \\\\\n",
       "\tHonda Civic & 30.4  & 4     &  75.7 &  52   & 4.93  & 1.615 & 18.52 & 1     & 1     & 4     & 2    \\\\\n",
       "\tToyota Corolla & 33.9  & 4     &  71.1 &  65   & 4.22  & 1.835 & 19.90 & 1     & 1     & 4     & 1    \\\\\n",
       "\tToyota Corona & 21.5  & 4     & 120.1 &  97   & 3.70  & 2.465 & 20.01 & 1     & 0     & 3     & 1    \\\\\n",
       "\tDodge Challenger & 15.5  & 8     & 318.0 & 150   & 2.76  & 3.520 & 16.87 & 0     & 0     & 3     & 2    \\\\\n",
       "\tAMC Javelin & 15.2  & 8     & 304.0 & 150   & 3.15  & 3.435 & 17.30 & 0     & 0     & 3     & 2    \\\\\n",
       "\tCamaro Z28 & 13.3  & 8     & 350.0 & 245   & 3.73  & 3.840 & 15.41 & 0     & 0     & 3     & 4    \\\\\n",
       "\tPontiac Firebird & 19.2  & 8     & 400.0 & 175   & 3.08  & 3.845 & 17.05 & 0     & 0     & 3     & 2    \\\\\n",
       "\tFiat X1-9 & 27.3  & 4     &  79.0 &  66   & 4.08  & 1.935 & 18.90 & 1     & 1     & 4     & 1    \\\\\n",
       "\tPorsche 914-2 & 26.0  & 4     & 120.3 &  91   & 4.43  & 2.140 & 16.70 & 0     & 1     & 5     & 2    \\\\\n",
       "\tLotus Europa & 30.4  & 4     &  95.1 & 113   & 3.77  & 1.513 & 16.90 & 1     & 1     & 5     & 2    \\\\\n",
       "\tFord Pantera L & 15.8  & 8     & 351.0 & 264   & 4.22  & 3.170 & 14.50 & 0     & 1     & 5     & 4    \\\\\n",
       "\tFerrari Dino & 19.7  & 6     & 145.0 & 175   & 3.62  & 2.770 & 15.50 & 0     & 1     & 5     & 6    \\\\\n",
       "\tMaserati Bora & 15.0  & 8     & 301.0 & 335   & 3.54  & 3.570 & 14.60 & 0     & 1     & 5     & 8    \\\\\n",
       "\tVolvo 142E & 21.4  & 4     & 121.0 & 109   & 4.11  & 2.780 & 18.60 & 1     & 1     & 4     & 2    \\\\\n",
       "\\end{tabular}\n"
      ],
      "text/markdown": [
       "\n",
       "| <!--/--> | mpg | cyl | disp | hp | drat | wt | qsec | vs | am | gear | carb | \n",
       "|---|---|---|---|---|---|---|---|---|---|---|---|---|---|---|---|---|---|---|---|---|---|---|---|---|---|---|---|---|---|---|---|\n",
       "| Mazda RX4 | 21.0  | 6     | 160.0 | 110   | 3.90  | 2.620 | 16.46 | 0     | 1     | 4     | 4     | \n",
       "| Mazda RX4 Wag | 21.0  | 6     | 160.0 | 110   | 3.90  | 2.875 | 17.02 | 0     | 1     | 4     | 4     | \n",
       "| Datsun 710 | 22.8  | 4     | 108.0 |  93   | 3.85  | 2.320 | 18.61 | 1     | 1     | 4     | 1     | \n",
       "| Hornet 4 Drive | 21.4  | 6     | 258.0 | 110   | 3.08  | 3.215 | 19.44 | 1     | 0     | 3     | 1     | \n",
       "| Hornet Sportabout | 18.7  | 8     | 360.0 | 175   | 3.15  | 3.440 | 17.02 | 0     | 0     | 3     | 2     | \n",
       "| Valiant | 18.1  | 6     | 225.0 | 105   | 2.76  | 3.460 | 20.22 | 1     | 0     | 3     | 1     | \n",
       "| Duster 360 | 14.3  | 8     | 360.0 | 245   | 3.21  | 3.570 | 15.84 | 0     | 0     | 3     | 4     | \n",
       "| Merc 240D | 24.4  | 4     | 146.7 |  62   | 3.69  | 3.190 | 20.00 | 1     | 0     | 4     | 2     | \n",
       "| Merc 230 | 22.8  | 4     | 140.8 |  95   | 3.92  | 3.150 | 22.90 | 1     | 0     | 4     | 2     | \n",
       "| Merc 280 | 19.2  | 6     | 167.6 | 123   | 3.92  | 3.440 | 18.30 | 1     | 0     | 4     | 4     | \n",
       "| Merc 280C | 17.8  | 6     | 167.6 | 123   | 3.92  | 3.440 | 18.90 | 1     | 0     | 4     | 4     | \n",
       "| Merc 450SE | 16.4  | 8     | 275.8 | 180   | 3.07  | 4.070 | 17.40 | 0     | 0     | 3     | 3     | \n",
       "| Merc 450SL | 17.3  | 8     | 275.8 | 180   | 3.07  | 3.730 | 17.60 | 0     | 0     | 3     | 3     | \n",
       "| Merc 450SLC | 15.2  | 8     | 275.8 | 180   | 3.07  | 3.780 | 18.00 | 0     | 0     | 3     | 3     | \n",
       "| Cadillac Fleetwood | 10.4  | 8     | 472.0 | 205   | 2.93  | 5.250 | 17.98 | 0     | 0     | 3     | 4     | \n",
       "| Lincoln Continental | 10.4  | 8     | 460.0 | 215   | 3.00  | 5.424 | 17.82 | 0     | 0     | 3     | 4     | \n",
       "| Chrysler Imperial | 14.7  | 8     | 440.0 | 230   | 3.23  | 5.345 | 17.42 | 0     | 0     | 3     | 4     | \n",
       "| Fiat 128 | 32.4  | 4     |  78.7 |  66   | 4.08  | 2.200 | 19.47 | 1     | 1     | 4     | 1     | \n",
       "| Honda Civic | 30.4  | 4     |  75.7 |  52   | 4.93  | 1.615 | 18.52 | 1     | 1     | 4     | 2     | \n",
       "| Toyota Corolla | 33.9  | 4     |  71.1 |  65   | 4.22  | 1.835 | 19.90 | 1     | 1     | 4     | 1     | \n",
       "| Toyota Corona | 21.5  | 4     | 120.1 |  97   | 3.70  | 2.465 | 20.01 | 1     | 0     | 3     | 1     | \n",
       "| Dodge Challenger | 15.5  | 8     | 318.0 | 150   | 2.76  | 3.520 | 16.87 | 0     | 0     | 3     | 2     | \n",
       "| AMC Javelin | 15.2  | 8     | 304.0 | 150   | 3.15  | 3.435 | 17.30 | 0     | 0     | 3     | 2     | \n",
       "| Camaro Z28 | 13.3  | 8     | 350.0 | 245   | 3.73  | 3.840 | 15.41 | 0     | 0     | 3     | 4     | \n",
       "| Pontiac Firebird | 19.2  | 8     | 400.0 | 175   | 3.08  | 3.845 | 17.05 | 0     | 0     | 3     | 2     | \n",
       "| Fiat X1-9 | 27.3  | 4     |  79.0 |  66   | 4.08  | 1.935 | 18.90 | 1     | 1     | 4     | 1     | \n",
       "| Porsche 914-2 | 26.0  | 4     | 120.3 |  91   | 4.43  | 2.140 | 16.70 | 0     | 1     | 5     | 2     | \n",
       "| Lotus Europa | 30.4  | 4     |  95.1 | 113   | 3.77  | 1.513 | 16.90 | 1     | 1     | 5     | 2     | \n",
       "| Ford Pantera L | 15.8  | 8     | 351.0 | 264   | 4.22  | 3.170 | 14.50 | 0     | 1     | 5     | 4     | \n",
       "| Ferrari Dino | 19.7  | 6     | 145.0 | 175   | 3.62  | 2.770 | 15.50 | 0     | 1     | 5     | 6     | \n",
       "| Maserati Bora | 15.0  | 8     | 301.0 | 335   | 3.54  | 3.570 | 14.60 | 0     | 1     | 5     | 8     | \n",
       "| Volvo 142E | 21.4  | 4     | 121.0 | 109   | 4.11  | 2.780 | 18.60 | 1     | 1     | 4     | 2     | \n",
       "\n",
       "\n"
      ],
      "text/plain": [
       "                    mpg  cyl disp  hp  drat wt    qsec  vs am gear carb\n",
       "Mazda RX4           21.0 6   160.0 110 3.90 2.620 16.46 0  1  4    4   \n",
       "Mazda RX4 Wag       21.0 6   160.0 110 3.90 2.875 17.02 0  1  4    4   \n",
       "Datsun 710          22.8 4   108.0  93 3.85 2.320 18.61 1  1  4    1   \n",
       "Hornet 4 Drive      21.4 6   258.0 110 3.08 3.215 19.44 1  0  3    1   \n",
       "Hornet Sportabout   18.7 8   360.0 175 3.15 3.440 17.02 0  0  3    2   \n",
       "Valiant             18.1 6   225.0 105 2.76 3.460 20.22 1  0  3    1   \n",
       "Duster 360          14.3 8   360.0 245 3.21 3.570 15.84 0  0  3    4   \n",
       "Merc 240D           24.4 4   146.7  62 3.69 3.190 20.00 1  0  4    2   \n",
       "Merc 230            22.8 4   140.8  95 3.92 3.150 22.90 1  0  4    2   \n",
       "Merc 280            19.2 6   167.6 123 3.92 3.440 18.30 1  0  4    4   \n",
       "Merc 280C           17.8 6   167.6 123 3.92 3.440 18.90 1  0  4    4   \n",
       "Merc 450SE          16.4 8   275.8 180 3.07 4.070 17.40 0  0  3    3   \n",
       "Merc 450SL          17.3 8   275.8 180 3.07 3.730 17.60 0  0  3    3   \n",
       "Merc 450SLC         15.2 8   275.8 180 3.07 3.780 18.00 0  0  3    3   \n",
       "Cadillac Fleetwood  10.4 8   472.0 205 2.93 5.250 17.98 0  0  3    4   \n",
       "Lincoln Continental 10.4 8   460.0 215 3.00 5.424 17.82 0  0  3    4   \n",
       "Chrysler Imperial   14.7 8   440.0 230 3.23 5.345 17.42 0  0  3    4   \n",
       "Fiat 128            32.4 4    78.7  66 4.08 2.200 19.47 1  1  4    1   \n",
       "Honda Civic         30.4 4    75.7  52 4.93 1.615 18.52 1  1  4    2   \n",
       "Toyota Corolla      33.9 4    71.1  65 4.22 1.835 19.90 1  1  4    1   \n",
       "Toyota Corona       21.5 4   120.1  97 3.70 2.465 20.01 1  0  3    1   \n",
       "Dodge Challenger    15.5 8   318.0 150 2.76 3.520 16.87 0  0  3    2   \n",
       "AMC Javelin         15.2 8   304.0 150 3.15 3.435 17.30 0  0  3    2   \n",
       "Camaro Z28          13.3 8   350.0 245 3.73 3.840 15.41 0  0  3    4   \n",
       "Pontiac Firebird    19.2 8   400.0 175 3.08 3.845 17.05 0  0  3    2   \n",
       "Fiat X1-9           27.3 4    79.0  66 4.08 1.935 18.90 1  1  4    1   \n",
       "Porsche 914-2       26.0 4   120.3  91 4.43 2.140 16.70 0  1  5    2   \n",
       "Lotus Europa        30.4 4    95.1 113 3.77 1.513 16.90 1  1  5    2   \n",
       "Ford Pantera L      15.8 8   351.0 264 4.22 3.170 14.50 0  1  5    4   \n",
       "Ferrari Dino        19.7 6   145.0 175 3.62 2.770 15.50 0  1  5    6   \n",
       "Maserati Bora       15.0 8   301.0 335 3.54 3.570 14.60 0  1  5    8   \n",
       "Volvo 142E          21.4 4   121.0 109 4.11 2.780 18.60 1  1  4    2   "
      ]
     },
     "metadata": {},
     "output_type": "display_data"
    }
   ],
   "source": [
    "mtcars"
   ]
  },
  {
   "cell_type": "code",
   "execution_count": 9,
   "metadata": {
    "collapsed": false,
    "deletable": true,
    "editable": true
   },
   "outputs": [
    {
     "data": {},
     "metadata": {},
     "output_type": "display_data"
    },
    {
     "data": {
      "image/png": "[encoded data removed]",
      "text/plain": [
       "plot without title"
      ]
     },
     "metadata": {},
     "output_type": "display_data"
    }
   ],
   "source": [
    "p <- ggplot(mtcars, aes(wt, mpg))\n",
    "p + geom_point(size=4)"
   ]
  },
  {
   "cell_type": "code",
   "execution_count": 10,
   "metadata": {
    "collapsed": false,
    "deletable": true,
    "editable": true
   },
   "outputs": [
    {
     "data": {},
     "metadata": {},
     "output_type": "display_data"
    },
    {
     "data": {
      "image/png": "[encoded data removed]",
      "text/plain": [
       "plot without title"
      ]
     },
     "metadata": {},
     "output_type": "display_data"
    }
   ],
   "source": [
    "# Violin plots\n",
    "p <- ggplot(mpg, aes(x=factor(cyl), y=hwy, fill=factor(cyl)))\n",
    "p + geom_violin(scale = \"width\")"
   ]
  },
  {
   "cell_type": "markdown",
   "metadata": {
    "collapsed": true,
    "deletable": true,
    "editable": true
   },
   "source": [
    "Aquí concluye este artículo; obviamente el objetivo del mismo es solo presentar [R](https://cloud.r-project.org/) y sus principales librerías para la ciencia de datos, dista mucho de ser un tutorial exhaustivo de como utilizar el lenguaje y existen muchas más librerías muy útiles que no fueron presentadas. \n",
    "\n",
    "Los que quieran profundizar en el lenguaje pueden realizar los siguientes cursos: [Programación Estadística con R](https://www.coursera.org/learn/intro-data-science-programacion-estadistica-r) o [Data analysis with R](https://www.udacity.com/course/data-analysis-with-r--ud651).\n",
    "\n",
    "Opiniones y comentarios son bienvenidos.\n",
    "\n",
    "Saludos!\n",
    "\n",
    "*Este post fue escrito utilizando IPython notebook. Pueden descargar este [notebook](https://github.com/IAARhub/iaar_template/tree/master/content/notebooks/Introducción%20a%20R.ipynb) o ver su version estática en [nbviewer](http://nbviewer.ipython.org/github/IAARhub/iaar_template/tree/master/content/notebooks/Introducción%20a%20R.ipynb).*"
   ]
  },
  {
   "cell_type": "code",
   "execution_count": null,
   "metadata": {
    "collapsed": true,
    "deletable": true,
    "editable": true
   },
   "outputs": [],
   "source": []
  }
 ],
 "metadata": {
  "kernelspec": {
   "display_name": "R",
   "language": "R",
   "name": "ir"
  },
  "language_info": {
   "codemirror_mode": "r",
   "file_extension": ".r",
   "mimetype": "text/x-r-source",
   "name": "R",
   "pygments_lexer": "r",
   "version": "3.3.3"
  }
 },
 "nbformat": 4,
 "nbformat_minor": 2
}
