{
 "cells": [
  {
   "cell_type": "markdown",
   "metadata": {},
   "source": [
    "# Introducción a R para Ciencia de Datos"
   ]
  },
  {
   "cell_type": "markdown",
   "metadata": {},
   "source": [
    "*Esta notebook fue creada originalmente como un blog post por [Raúl E. López Briega](http://relopezbriega.github.io) para el [sitio de capacitaciones de IAAR](https://iaarhub.github.io/). El contenido esta bajo la licencia BSD.*"
   ]
  },
  {
   "cell_type": "markdown",
   "metadata": {},
   "source": [
    "<img title=\"R para Ciencia de Datos\" alt=\"R para Ciencia de Datos\" src=\"https://iaarhub.github.io/images/rprogramming.jpg\" high=\"400px\" width=\"600px\">"
   ]
  },
  {
   "cell_type": "markdown",
   "metadata": {},
   "source": [
    "## ¿Qué es R?\n",
    "\n",
    "[R](https://cloud.r-project.org/) es un lenguaje de programación [interpretado](https://es.wikipedia.org/wiki/Script) diseñado específicamente para el [análisis estadístico](http://relopezbriega.github.io/blog/2015/06/27/probabilidad-y-estadistica-con-python/) y la manipulación de datos. Esta inspirado, y es en su mayor medida compatible, por el lenguaje de programación <a href=\"https://en.wikipedia.org/wiki/S_(programming_language)\">S</a> desarrollado por AT&T. Es ampliamente utilizado en todos los campos donde se deben manipular datos, como ser: los negocios, la industria, el gobierno, la medicina, el ámbito académico, y demás.\n",
    "\n",
    "## ¿Por qué utilizar R?\n",
    "\n",
    "[R](https://cloud.r-project.org/) cuenta con varias virtudes, como ser:\n",
    "\n",
    "* Es una implementación de dominio público del lenguaje estadístico <a href=\"https://en.wikipedia.org/wiki/S_(programming_language)\">S</a>; y la plataforma R/S se ha convertido en el defecto dentro del círculo de los profesionales de la [estadística](http://relopezbriega.github.io/blog/2015/06/27/probabilidad-y-estadistica-con-python/).\n",
    "\n",
    "* Es comparable, y a menudo superior en funcionalidad a productos comerciales; ya sea en gráficas, variedad de operaciones, y algoritmos implementados.\n",
    "\n",
    "* Es multiplataforma, se encuentra disponible para los sistemas operativos Windows, Mac y Linux.\n",
    "\n",
    "* Además de proporcionar operaciones estadísticas, [R](https://cloud.r-project.org/) es un lenguaje de programación de propósito general; es decir, que puede ser utilizado para automatizar análisis y crear nuevas funciones que amplíen las funcionalidades existentes.\n",
    "\n",
    "* Incorpora características encontradas en la programación [orientados a objetos](https://es.wikipedia.org/wiki/Programaci%C3%B3n_orientada_a_objetos) y [funcional](https://es.wikipedia.org/wiki/Programaci%C3%B3n_funcional).\n",
    "\n",
    "* El sistema guarda los conjuntos de datos entre sesiones, por lo que no es necesario volver a cargar los datos cada vez que ingresamos. También guarda nuestro historial de comandos, lo que nos ahorra bastante tiempo y mejora la productividad.\n",
    "\n",
    "* Debido a que [R](https://cloud.r-project.org/) es un software de [código abierto](https://es.wikipedia.org/wiki/C%C3%B3digo_abierto), es fácil obtener ayuda de la comunidad de usuarios. Además, muchas nuevas funciones son aportadas por los usuarios, los cuales son prominentes estadísticos.\n",
    "\n",
    "Si bien existe una pequeña curva de aprendizaje, ésta es bastante mínima en comparación con otros lenguajes y programas. Asimismo existe una enorme red de colaboradores que constantemente están creando nuevos paquetes que hacen que sea mucho más fácil aplicar todo tipo de técnicas y funciones para manipular y analizar nuestros datos con la ayuda de [R](https://cloud.r-project.org/).\n",
    "\n",
    "## ¿Cómo obtengo R?\n",
    "\n",
    "Para descargar [R](https://cloud.r-project.org/), deben dirigirse a [CRAN](https://cran.r-project.org/), la red de archivos de [R](https://cloud.r-project.org/). [CRAN](https://cran.r-project.org/) se compone de un conjunto de servidores distribuidos en todo el mundo y se utiliza para distribuir [R](https://cloud.r-project.org/) junto con sus paquetes.\n",
    "\n",
    "## RStudio\n",
    "\n",
    "[RStudio](https://www.rstudio.com/) es un entorno de desarrollo integrado, o [IDE](https://es.wikipedia.org/wiki/Entorno_de_desarrollo_integrado), diseñado específicamente para la programación con [R](https://cloud.r-project.org/). [RStudio](https://www.rstudio.com/) hace que [R](https://cloud.r-project.org/) sea más fácil de usar. Incluye un editor de código, herramientas de depuración y visualización. Si estas dando tus primeros pasos con [R](https://cloud.r-project.org/), [RStudio](https://www.rstudio.com/) hace la experiencia mucho más amigable.\n",
    "\n",
    "## Breve introducción a la programación con R\n",
    "\n",
    "Ahora que ya tenemos una idea más clara de qué es [R](https://cloud.r-project.org/) y su ecosistema, llegó el momento de adentrarnos en su interfaz y ver como podemos realizar algunas operaciones básicas de programación en este lenguaje.\n",
    "\n",
    "### Vectores\n",
    "\n",
    "El tipo de dato más fundamental que vamos a encontrar en [R](https://cloud.r-project.org/) son los **vectores**."
   ]
  },
  {
   "cell_type": "code",
   "execution_count": 1,
   "metadata": {},
   "outputs": [
    {
     "data": {
      "text/html": [
       "<ol class=list-inline>\n",
       "\t<li>1</li>\n",
       "\t<li>5</li>\n",
       "\t<li>7</li>\n",
       "\t<li>12</li>\n",
       "\t<li>13</li>\n",
       "</ol>\n"
      ],
      "text/latex": [
       "\\begin{enumerate*}\n",
       "\\item 1\n",
       "\\item 5\n",
       "\\item 7\n",
       "\\item 12\n",
       "\\item 13\n",
       "\\end{enumerate*}\n"
      ],
      "text/markdown": [
       "1. 1\n",
       "2. 5\n",
       "3. 7\n",
       "4. 12\n",
       "5. 13\n",
       "\n",
       "\n"
      ],
      "text/plain": [
       "[1]  1  5  7 12 13"
      ]
     },
     "metadata": {},
     "output_type": "display_data"
    }
   ],
   "source": [
    "# creando un vector x\n",
    "x <- c(1, 5, 7, 12, 13)\n",
    "x"
   ]
  },
  {
   "cell_type": "code",
   "execution_count": 2,
   "metadata": {},
   "outputs": [
    {
     "data": {
      "text/html": [
       "<ol class=list-inline>\n",
       "\t<li>5</li>\n",
       "\t<li>7</li>\n",
       "\t<li>12</li>\n",
       "</ol>\n"
      ],
      "text/latex": [
       "\\begin{enumerate*}\n",
       "\\item 5\n",
       "\\item 7\n",
       "\\item 12\n",
       "\\end{enumerate*}\n"
      ],
      "text/markdown": [
       "1. 5\n",
       "2. 7\n",
       "3. 12\n",
       "\n",
       "\n"
      ],
      "text/plain": [
       "[1]  5  7 12"
      ]
     },
     "metadata": {},
     "output_type": "display_data"
    }
   ],
   "source": [
    "# los vectores son similares a las listas, podemos seleccionar solo\n",
    "# algunos elementos. Los índices comienzan en 1 en lugar de 0.\n",
    "x[2:4] # selecciona elementos 2 a 4"
   ]
  },
  {
   "cell_type": "code",
   "execution_count": 3,
   "metadata": {},
   "outputs": [
    {
     "data": {
      "text/html": [
       "<ol class=list-inline>\n",
       "\t<li>1</li>\n",
       "\t<li>5</li>\n",
       "\t<li>7</li>\n",
       "\t<li>99</li>\n",
       "\t<li>12</li>\n",
       "\t<li>13</li>\n",
       "</ol>\n"
      ],
      "text/latex": [
       "\\begin{enumerate*}\n",
       "\\item 1\n",
       "\\item 5\n",
       "\\item 7\n",
       "\\item 99\n",
       "\\item 12\n",
       "\\item 13\n",
       "\\end{enumerate*}\n"
      ],
      "text/markdown": [
       "1. 1\n",
       "2. 5\n",
       "3. 7\n",
       "4. 99\n",
       "5. 12\n",
       "6. 13\n",
       "\n",
       "\n"
      ],
      "text/plain": [
       "[1]  1  5  7 99 12 13"
      ]
     },
     "metadata": {},
     "output_type": "display_data"
    }
   ],
   "source": [
    "# El tamaño de un vector queda definido en su creación. Para agregar o\n",
    "# eliminar elementos hay que reasignar el vector.\n",
    "x <- c(x[1:3],99,x[4:5]) # inserta 99 entre el 7 y el 12\n",
    "x"
   ]
  },
  {
   "cell_type": "code",
   "execution_count": 4,
   "metadata": {},
   "outputs": [
    {
     "data": {
      "text/html": [
       "6"
      ],
      "text/latex": [
       "6"
      ],
      "text/markdown": [
       "6"
      ],
      "text/plain": [
       "[1] 6"
      ]
     },
     "metadata": {},
     "output_type": "display_data"
    }
   ],
   "source": [
    "# Saber el tamaño del vector con length\n",
    "length(x)"
   ]
  },
  {
   "cell_type": "code",
   "execution_count": 5,
   "metadata": {},
   "outputs": [
    {
     "data": {
      "text/html": [
       "<ol class=list-inline>\n",
       "\t<li>1</li>\n",
       "\t<li>5</li>\n",
       "\t<li>7</li>\n",
       "\t<li>12</li>\n",
       "</ol>\n"
      ],
      "text/latex": [
       "\\begin{enumerate*}\n",
       "\\item 1\n",
       "\\item 5\n",
       "\\item 7\n",
       "\\item 12\n",
       "\\end{enumerate*}\n"
      ],
      "text/markdown": [
       "1. 1\n",
       "2. 5\n",
       "3. 7\n",
       "4. 12\n",
       "\n",
       "\n"
      ],
      "text/plain": [
       "[1]  1  5  7 12"
      ]
     },
     "metadata": {},
     "output_type": "display_data"
    }
   ],
   "source": [
    "# Filtrar valores del vector menores a 13\n",
    "x[x < 13]"
   ]
  },
  {
   "cell_type": "code",
   "execution_count": 6,
   "metadata": {},
   "outputs": [
    {
     "data": {
      "text/html": [
       "'character'"
      ],
      "text/latex": [
       "'character'"
      ],
      "text/markdown": [
       "'character'"
      ],
      "text/plain": [
       "[1] \"character\""
      ]
     },
     "metadata": {},
     "output_type": "display_data"
    }
   ],
   "source": [
    "# Podemos ver el tipo de datos del vector con mode\n",
    "y <- c(1, 2, 'Pi')\n",
    "mode(y)"
   ]
  },
  {
   "cell_type": "code",
   "execution_count": 7,
   "metadata": {},
   "outputs": [
    {
     "data": {
      "text/html": [
       "'numeric'"
      ],
      "text/latex": [
       "'numeric'"
      ],
      "text/markdown": [
       "'numeric'"
      ],
      "text/plain": [
       "[1] \"numeric\""
      ]
     },
     "metadata": {},
     "output_type": "display_data"
    }
   ],
   "source": [
    "mode(x)"
   ]
  },
  {
   "cell_type": "markdown",
   "metadata": {},
   "source": [
    "### Matrices\n",
    "\n",
    "Una **Matriz** es un vector con dos atributos adicionales: el número de filas y el número de columnas. "
   ]
  },
  {
   "cell_type": "code",
   "execution_count": 8,
   "metadata": {},
   "outputs": [
    {
     "data": {
      "text/html": [
       "<table>\n",
       "<tbody>\n",
       "\t<tr><td>1</td><td>3</td></tr>\n",
       "\t<tr><td>2</td><td>4</td></tr>\n",
       "</tbody>\n",
       "</table>\n"
      ],
      "text/latex": [
       "\\begin{tabular}{ll}\n",
       "\t 1 & 3\\\\\n",
       "\t 2 & 4\\\\\n",
       "\\end{tabular}\n"
      ],
      "text/markdown": [
       "\n",
       "| 1 | 3 | \n",
       "| 2 | 4 | \n",
       "\n",
       "\n"
      ],
      "text/plain": [
       "     [,1] [,2]\n",
       "[1,] 1    3   \n",
       "[2,] 2    4   "
      ]
     },
     "metadata": {},
     "output_type": "display_data"
    }
   ],
   "source": [
    "# Creando la Matriz A utilizando matrix\n",
    "A <- matrix(c(1,2,3,4),nrow=2,ncol=2)\n",
    "A"
   ]
  },
  {
   "cell_type": "code",
   "execution_count": 9,
   "metadata": {},
   "outputs": [
    {
     "data": {
      "text/html": [
       "<ol class=list-inline>\n",
       "\t<li>1</li>\n",
       "\t<li>3</li>\n",
       "</ol>\n"
      ],
      "text/latex": [
       "\\begin{enumerate*}\n",
       "\\item 1\n",
       "\\item 3\n",
       "\\end{enumerate*}\n"
      ],
      "text/markdown": [
       "1. 1\n",
       "2. 3\n",
       "\n",
       "\n"
      ],
      "text/plain": [
       "[1] 1 3"
      ]
     },
     "metadata": {},
     "output_type": "display_data"
    }
   ],
   "source": [
    "# Seleccionando la fila 1\n",
    "A[1,]"
   ]
  },
  {
   "cell_type": "code",
   "execution_count": 10,
   "metadata": {},
   "outputs": [
    {
     "data": {
      "text/html": [
       "<ol class=list-inline>\n",
       "\t<li>3</li>\n",
       "\t<li>4</li>\n",
       "</ol>\n"
      ],
      "text/latex": [
       "\\begin{enumerate*}\n",
       "\\item 3\n",
       "\\item 4\n",
       "\\end{enumerate*}\n"
      ],
      "text/markdown": [
       "1. 3\n",
       "2. 4\n",
       "\n",
       "\n"
      ],
      "text/plain": [
       "[1] 3 4"
      ]
     },
     "metadata": {},
     "output_type": "display_data"
    }
   ],
   "source": [
    "# Seleccionando la columna 2\n",
    "A[,2]"
   ]
  },
  {
   "cell_type": "code",
   "execution_count": 11,
   "metadata": {},
   "outputs": [
    {
     "data": {
      "text/html": [
       "<table>\n",
       "<tbody>\n",
       "\t<tr><td>1</td><td>2</td><td>3</td></tr>\n",
       "\t<tr><td>4</td><td>5</td><td>6</td></tr>\n",
       "</tbody>\n",
       "</table>\n"
      ],
      "text/latex": [
       "\\begin{tabular}{lll}\n",
       "\t 1 & 2 & 3\\\\\n",
       "\t 4 & 5 & 6\\\\\n",
       "\\end{tabular}\n"
      ],
      "text/markdown": [
       "\n",
       "| 1 | 2 | 3 | \n",
       "| 4 | 5 | 6 | \n",
       "\n",
       "\n"
      ],
      "text/plain": [
       "     [,1] [,2] [,3]\n",
       "[1,] 1    2    3   \n",
       "[2,] 4    5    6   "
      ]
     },
     "metadata": {},
     "output_type": "display_data"
    }
   ],
   "source": [
    "# Matriz con datos ordenados por fila en lugar del comportamiento por defecto\n",
    "# en columnas. Utilizamos byrow True\n",
    "B <- matrix(c(1,2,3,4,5,6),nrow=2,byrow=T)\n",
    "B"
   ]
  },
  {
   "cell_type": "code",
   "execution_count": 12,
   "metadata": {},
   "outputs": [
    {
     "data": {
      "text/html": [
       "<table>\n",
       "<tbody>\n",
       "\t<tr><td>13</td><td>17</td><td>21</td></tr>\n",
       "\t<tr><td>18</td><td>24</td><td>30</td></tr>\n",
       "</tbody>\n",
       "</table>\n"
      ],
      "text/latex": [
       "\\begin{tabular}{lll}\n",
       "\t 13 & 17 & 21\\\\\n",
       "\t 18 & 24 & 30\\\\\n",
       "\\end{tabular}\n"
      ],
      "text/markdown": [
       "\n",
       "| 13 | 17 | 21 | \n",
       "| 18 | 24 | 30 | \n",
       "\n",
       "\n"
      ],
      "text/plain": [
       "     [,1] [,2] [,3]\n",
       "[1,] 13   17   21  \n",
       "[2,] 18   24   30  "
      ]
     },
     "metadata": {},
     "output_type": "display_data"
    }
   ],
   "source": [
    "# Multiplicación de matrices.\n",
    "A %*% B"
   ]
  },
  {
   "cell_type": "code",
   "execution_count": 13,
   "metadata": {},
   "outputs": [
    {
     "data": {
      "text/html": [
       "<table>\n",
       "<tbody>\n",
       "\t<tr><td>2 </td><td> 4</td><td> 6</td></tr>\n",
       "\t<tr><td>8 </td><td>10</td><td>12</td></tr>\n",
       "</tbody>\n",
       "</table>\n"
      ],
      "text/latex": [
       "\\begin{tabular}{lll}\n",
       "\t 2  &  4 &  6\\\\\n",
       "\t 8  & 10 & 12\\\\\n",
       "\\end{tabular}\n"
      ],
      "text/markdown": [
       "\n",
       "| 2  |  4 |  6 | \n",
       "| 8  | 10 | 12 | \n",
       "\n",
       "\n"
      ],
      "text/plain": [
       "     [,1] [,2] [,3]\n",
       "[1,] 2     4    6  \n",
       "[2,] 8    10   12  "
      ]
     },
     "metadata": {},
     "output_type": "display_data"
    }
   ],
   "source": [
    "# Multiplicación por escalar\n",
    "B * 2"
   ]
  },
  {
   "cell_type": "code",
   "execution_count": 14,
   "metadata": {},
   "outputs": [
    {
     "data": {
      "text/html": [
       "<table>\n",
       "<tbody>\n",
       "\t<tr><td>1</td><td>2</td></tr>\n",
       "\t<tr><td>4</td><td>5</td></tr>\n",
       "</tbody>\n",
       "</table>\n"
      ],
      "text/latex": [
       "\\begin{tabular}{ll}\n",
       "\t 1 & 2\\\\\n",
       "\t 4 & 5\\\\\n",
       "\\end{tabular}\n"
      ],
      "text/markdown": [
       "\n",
       "| 1 | 2 | \n",
       "| 4 | 5 | \n",
       "\n",
       "\n"
      ],
      "text/plain": [
       "     [,1] [,2]\n",
       "[1,] 1    2   \n",
       "[2,] 4    5   "
      ]
     },
     "metadata": {},
     "output_type": "display_data"
    }
   ],
   "source": [
    "# Seleccionando múltiples columnas\n",
    "B[,1:2]"
   ]
  },
  {
   "cell_type": "markdown",
   "metadata": {},
   "source": [
    "### Listas\n",
    "\n",
    "Las **Listas** a diferencia de los vectores, en los que todos los elementos deben ser del mismo tipo; pueden combinar objetos de distintos tipos. Son similares a los diccionarios de [Python](https://www.python.org/)."
   ]
  },
  {
   "cell_type": "code",
   "execution_count": 15,
   "metadata": {
    "collapsed": true
   },
   "outputs": [],
   "source": [
    "# Creando una lista\n",
    "r <- list(nombre=\"Raul\", edad=35, soltero=T)"
   ]
  },
  {
   "cell_type": "code",
   "execution_count": 16,
   "metadata": {},
   "outputs": [
    {
     "data": {
      "text/html": [
       "'Raul'"
      ],
      "text/latex": [
       "'Raul'"
      ],
      "text/markdown": [
       "'Raul'"
      ],
      "text/plain": [
       "[1] \"Raul\""
      ]
     },
     "metadata": {},
     "output_type": "display_data"
    }
   ],
   "source": [
    "# Accediendo a los elementos de la lista\n",
    "r$nombre"
   ]
  },
  {
   "cell_type": "code",
   "execution_count": 17,
   "metadata": {},
   "outputs": [
    {
     "data": {
      "text/html": [
       "35"
      ],
      "text/latex": [
       "35"
      ],
      "text/markdown": [
       "35"
      ],
      "text/plain": [
       "[1] 35"
      ]
     },
     "metadata": {},
     "output_type": "display_data"
    }
   ],
   "source": [
    "r$edad"
   ]
  },
  {
   "cell_type": "code",
   "execution_count": 18,
   "metadata": {},
   "outputs": [
    {
     "data": {
      "text/html": [
       "TRUE"
      ],
      "text/latex": [
       "TRUE"
      ],
      "text/markdown": [
       "TRUE"
      ],
      "text/plain": [
       "[1] TRUE"
      ]
     },
     "metadata": {},
     "output_type": "display_data"
    }
   ],
   "source": [
    "r$soltero"
   ]
  },
  {
   "cell_type": "code",
   "execution_count": 19,
   "metadata": {},
   "outputs": [
    {
     "data": {
      "text/html": [
       "<dl>\n",
       "\t<dt>$nombre</dt>\n",
       "\t\t<dd>'Raul'</dd>\n",
       "\t<dt>$edad</dt>\n",
       "\t\t<dd>35</dd>\n",
       "\t<dt>$soltero</dt>\n",
       "\t\t<dd>TRUE</dd>\n",
       "\t<dt>$ciudad</dt>\n",
       "\t\t<dd>'Buenos Aires'</dd>\n",
       "</dl>\n"
      ],
      "text/latex": [
       "\\begin{description}\n",
       "\\item[\\$nombre] 'Raul'\n",
       "\\item[\\$edad] 35\n",
       "\\item[\\$soltero] TRUE\n",
       "\\item[\\$ciudad] 'Buenos Aires'\n",
       "\\end{description}\n"
      ],
      "text/markdown": [
       "$nombre\n",
       ":   'Raul'\n",
       "$edad\n",
       ":   35\n",
       "$soltero\n",
       ":   TRUE\n",
       "$ciudad\n",
       ":   'Buenos Aires'\n",
       "\n",
       "\n"
      ],
      "text/plain": [
       "$nombre\n",
       "[1] \"Raul\"\n",
       "\n",
       "$edad\n",
       "[1] 35\n",
       "\n",
       "$soltero\n",
       "[1] TRUE\n",
       "\n",
       "$ciudad\n",
       "[1] \"Buenos Aires\"\n"
      ]
     },
     "metadata": {},
     "output_type": "display_data"
    }
   ],
   "source": [
    "# Agregando un elemento\n",
    "r$ciudad <- \"Buenos Aires\"\n",
    "r"
   ]
  },
  {
   "cell_type": "code",
   "execution_count": 20,
   "metadata": {},
   "outputs": [
    {
     "data": {
      "text/html": [
       "<ol class=list-inline>\n",
       "\t<li>'nombre'</li>\n",
       "\t<li>'edad'</li>\n",
       "\t<li>'soltero'</li>\n",
       "\t<li>'ciudad'</li>\n",
       "</ol>\n"
      ],
      "text/latex": [
       "\\begin{enumerate*}\n",
       "\\item 'nombre'\n",
       "\\item 'edad'\n",
       "\\item 'soltero'\n",
       "\\item 'ciudad'\n",
       "\\end{enumerate*}\n"
      ],
      "text/markdown": [
       "1. 'nombre'\n",
       "2. 'edad'\n",
       "3. 'soltero'\n",
       "4. 'ciudad'\n",
       "\n",
       "\n"
      ],
      "text/plain": [
       "[1] \"nombre\"  \"edad\"    \"soltero\" \"ciudad\" "
      ]
     },
     "metadata": {},
     "output_type": "display_data"
    }
   ],
   "source": [
    "# Accediendo a los indices con names\n",
    "names(r)"
   ]
  },
  {
   "cell_type": "markdown",
   "metadata": {},
   "source": [
    "### Factores\n",
    "\n",
    "Los **Factores** constituyen la base de muchas de las potentes operaciones que podemos realizar con [R](https://cloud.r-project.org/), incluyendo las realizadas sobre datos tabulares. La motivación para los factores proviene de la noción de [variables nominales o categóricas](http://relopezbriega.github.io/blog/2016/02/29/analisis-de-datos-categoricos-con-python/) en las [estadísticas](http://relopezbriega.github.io/blog/2015/06/27/probabilidad-y-estadistica-con-python/). Se caracteriza por dividir los datos en niveles o clases."
   ]
  },
  {
   "cell_type": "code",
   "execution_count": 21,
   "metadata": {},
   "outputs": [
    {
     "name": "stdout",
     "output_type": "stream",
     "text": [
      " Factor w/ 4 levels \"4\",\"5\",\"7\",\"12\": 1 2 4 4 2 4 1 3\n"
     ]
    }
   ],
   "source": [
    "# Ejemplo de factores con 4 niveles\n",
    "x <- c(4, 5, 12, 12, 5, 12, 4, 7)\n",
    "y <- factor(x)\n",
    "str(y)"
   ]
  },
  {
   "cell_type": "markdown",
   "metadata": {},
   "source": [
    "### Data Frame\n",
    "\n",
    "El **DataFrame** es similar a una matriz, tiene una estructura bidimensional de filas y columnas. Sin embargo, difiere de una matriz en que cada columna puede tener un tipo de datos diferente. Por ejemplo, una columna puede consistir en números y otra columna puede tener una cadena de caracteres. En este sentido, así como las listas son los análogos heterogéneos de vectores en una dimensión, los DataFrame son los análogos heterogéneos de matrices para datos bidimensionales."
   ]
  },
  {
   "cell_type": "code",
   "execution_count": 22,
   "metadata": {},
   "outputs": [
    {
     "data": {
      "text/html": [
       "<table>\n",
       "<thead><tr><th scope=col>nombres</th><th scope=col>edades</th></tr></thead>\n",
       "<tbody>\n",
       "\t<tr><td>Raul    </td><td>13      </td></tr>\n",
       "\t<tr><td>Ezequiel</td><td>18      </td></tr>\n",
       "</tbody>\n",
       "</table>\n"
      ],
      "text/latex": [
       "\\begin{tabular}{r|ll}\n",
       " nombres & edades\\\\\n",
       "\\hline\n",
       "\t Raul     & 13      \\\\\n",
       "\t Ezequiel & 18      \\\\\n",
       "\\end{tabular}\n"
      ],
      "text/markdown": [
       "\n",
       "nombres | edades | \n",
       "|---|---|\n",
       "| Raul     | 13       | \n",
       "| Ezequiel | 18       | \n",
       "\n",
       "\n"
      ],
      "text/plain": [
       "  nombres  edades\n",
       "1 Raul     13    \n",
       "2 Ezequiel 18    "
      ]
     },
     "metadata": {},
     "output_type": "display_data"
    }
   ],
   "source": [
    "# Creando un DataFrame\n",
    "nombres <- c(\"Raul\",\"Ezequiel\")\n",
    "edades <- c(13,18)\n",
    "d <- data.frame(nombres, edades)\n",
    "d"
   ]
  },
  {
   "cell_type": "code",
   "execution_count": 23,
   "metadata": {},
   "outputs": [
    {
     "name": "stdout",
     "output_type": "stream",
     "text": [
      "'data.frame':\t2 obs. of  2 variables:\n",
      " $ nombres: Factor w/ 2 levels \"Ezequiel\",\"Raul\": 2 1\n",
      " $ edades : num  13 18\n"
     ]
    }
   ],
   "source": [
    "str(d)"
   ]
  },
  {
   "cell_type": "code",
   "execution_count": 24,
   "metadata": {},
   "outputs": [
    {
     "data": {
      "text/html": [
       "<ol class=list-inline>\n",
       "\t<li>13</li>\n",
       "\t<li>18</li>\n",
       "</ol>\n"
      ],
      "text/latex": [
       "\\begin{enumerate*}\n",
       "\\item 13\n",
       "\\item 18\n",
       "\\end{enumerate*}\n"
      ],
      "text/markdown": [
       "1. 13\n",
       "2. 18\n",
       "\n",
       "\n"
      ],
      "text/plain": [
       "[1] 13 18"
      ]
     },
     "metadata": {},
     "output_type": "display_data"
    }
   ],
   "source": [
    "# Accediendo las columnas\n",
    "d$edades"
   ]
  },
  {
   "cell_type": "code",
   "execution_count": 25,
   "metadata": {},
   "outputs": [
    {
     "data": {
      "text/html": [
       "<table>\n",
       "<thead><tr><th scope=col>nombres</th><th scope=col>edades</th></tr></thead>\n",
       "<tbody>\n",
       "\t<tr><td>Raul</td><td>13  </td></tr>\n",
       "</tbody>\n",
       "</table>\n"
      ],
      "text/latex": [
       "\\begin{tabular}{r|ll}\n",
       " nombres & edades\\\\\n",
       "\\hline\n",
       "\t Raul & 13  \\\\\n",
       "\\end{tabular}\n"
      ],
      "text/markdown": [
       "\n",
       "nombres | edades | \n",
       "|---|\n",
       "| Raul | 13   | \n",
       "\n",
       "\n"
      ],
      "text/plain": [
       "  nombres edades\n",
       "1 Raul    13    "
      ]
     },
     "metadata": {},
     "output_type": "display_data"
    }
   ],
   "source": [
    "# Accediendo filas\n",
    "d[1,]"
   ]
  },
  {
   "cell_type": "markdown",
   "metadata": {},
   "source": [
    "### Paquetes\n",
    "\n",
    "Una de las mayores ventajas de [R](https://cloud.r-project.org/) es que podemos encontrar miles de paquetes escritos por usuarios en [CRAN](https://cran.r-project.org/). Un paquete de [R](https://cloud.r-project.org/) es una colección de funciones, datos y documentación que amplía las capacidades de la base o core de [R](https://cloud.r-project.org/). El uso de paquetes es clave para utilizar exitosamente [R](https://cloud.r-project.org/)."
   ]
  },
  {
   "cell_type": "code",
   "execution_count": 26,
   "metadata": {},
   "outputs": [
    {
     "data": {
      "text/html": [
       "<ol class=list-inline>\n",
       "\t<li>'/usr/lib/R/library/stats'</li>\n",
       "\t<li>'/usr/lib/R/library/graphics'</li>\n",
       "\t<li>'/usr/lib/R/library/grDevices'</li>\n",
       "\t<li>'/usr/lib/R/library/utils'</li>\n",
       "\t<li>'/usr/lib/R/library/datasets'</li>\n",
       "\t<li>'/usr/lib/R/library/methods'</li>\n",
       "\t<li>'/usr/lib/R/library/base'</li>\n",
       "</ol>\n"
      ],
      "text/latex": [
       "\\begin{enumerate*}\n",
       "\\item '/usr/lib/R/library/stats'\n",
       "\\item '/usr/lib/R/library/graphics'\n",
       "\\item '/usr/lib/R/library/grDevices'\n",
       "\\item '/usr/lib/R/library/utils'\n",
       "\\item '/usr/lib/R/library/datasets'\n",
       "\\item '/usr/lib/R/library/methods'\n",
       "\\item '/usr/lib/R/library/base'\n",
       "\\end{enumerate*}\n"
      ],
      "text/markdown": [
       "1. '/usr/lib/R/library/stats'\n",
       "2. '/usr/lib/R/library/graphics'\n",
       "3. '/usr/lib/R/library/grDevices'\n",
       "4. '/usr/lib/R/library/utils'\n",
       "5. '/usr/lib/R/library/datasets'\n",
       "6. '/usr/lib/R/library/methods'\n",
       "7. '/usr/lib/R/library/base'\n",
       "\n",
       "\n"
      ],
      "text/plain": [
       "[1] \"/usr/lib/R/library/stats\"     \"/usr/lib/R/library/graphics\" \n",
       "[3] \"/usr/lib/R/library/grDevices\" \"/usr/lib/R/library/utils\"    \n",
       "[5] \"/usr/lib/R/library/datasets\"  \"/usr/lib/R/library/methods\"  \n",
       "[7] \"/usr/lib/R/library/base\"     "
      ]
     },
     "metadata": {},
     "output_type": "display_data"
    }
   ],
   "source": [
    "# Para controlar los paquetes que se encuentran cargados\n",
    "path.package()"
   ]
  },
  {
   "cell_type": "code",
   "execution_count": 27,
   "metadata": {},
   "outputs": [
    {
     "name": "stderr",
     "output_type": "stream",
     "text": [
      "Installing packages into ‘/home/raul/R/x86_64-pc-linux-gnu-library/3.3’\n",
      "(as ‘lib’ is unspecified)\n"
     ]
    }
   ],
   "source": [
    "# Para instalar paquetes\n",
    "install.packages(c(\"outliers\", \"forecast\"))"
   ]
  },
  {
   "cell_type": "code",
   "execution_count": 28,
   "metadata": {
    "collapsed": true
   },
   "outputs": [],
   "source": [
    "# Para cargar el paquete\n",
    "library(forecast)"
   ]
  },
  {
   "cell_type": "markdown",
   "metadata": {},
   "source": [
    "## Librerías para Ciencia de datos\n",
    "\n",
    "Bien, luego de este paseo por las principales estructuras de datos que podemos encontrar en [R](https://cloud.r-project.org/), llegó el momento de adentrarnos en el fascinante mundo de la ciencia de datos. Algunas de las librerías que se han vuelto sumamente útiles para analizar y manipular datos con [R](https://cloud.r-project.org/), son las siguientes:\n",
    "\n",
    "### Tidyverse\n",
    "\n",
    "Una de las tareas más importantes en cualquier proceso de análisis de datos consiste en ordenarlos y darles una estructura. En general recibimos datos en crudo y debemos procesarlos para poder luego utilizarlos en nuestros modelos. Si de explorar, ordenar y analizar datos se trata el paquete [tidiverse](https://cran.r-project.org/web/packages/tidyverse/index.html) es fundamental. Este paquete incluye las librerías ggplot2, tibble, tidyr, readr, purrr, y dplyr; las cuales comparten una filosofía propia y están diseñados para trabajar naturalmente entre ellos. Veamos algunos ejemplos:"
   ]
  },
  {
   "cell_type": "code",
   "execution_count": 29,
   "metadata": {},
   "outputs": [
    {
     "name": "stderr",
     "output_type": "stream",
     "text": [
      "Loading tidyverse: ggplot2\n",
      "Loading tidyverse: tibble\n",
      "Loading tidyverse: tidyr\n",
      "Loading tidyverse: readr\n",
      "Loading tidyverse: purrr\n",
      "Loading tidyverse: dplyr\n",
      "Conflicts with tidy packages ---------------------------------------------------\n",
      "filter(): dplyr, stats\n",
      "lag():    dplyr, stats\n"
     ]
    }
   ],
   "source": [
    "# importando librerías\n",
    "library(tidyverse)"
   ]
  },
  {
   "cell_type": "markdown",
   "metadata": {},
   "source": [
    "Aquí podemos ver los paquetes incluidos en el [tidiverse](https://cran.r-project.org/web/packages/tidyverse/index.html): [ggplot2](https://cran.r-project.org/web/packages/ggplot2/), la popular librería de visualizaciones; [tibble](https://cran.r-project.org/web/packages/tibble/), que mejora los data.frames; [tidyr](https://cran.r-project.org/web/packages/tidyr/), que nos permite redimensionar y agregar nuestros datos; [readr](https://cran.r-project.org/web/packages/readr/), que nos proporcionar un método rápido y amigable para leer datos tabulares; [purrr](https://cran.r-project.org/web/packages/purrr/), que brinda las herramientas para un estilo de programación más funcional; y [dplyr](https://cran.r-project.org/web/packages/dplyr/), para manipular los datos en memoria.\n",
    "\n",
    "Comencemos con [ggplot2](https://cran.r-project.org/web/packages/ggplot2/), cuya gramática se puede resumir de la siguiente forma:\n",
    "\n",
    "```R\n",
    "ggplot(data = <DATA>) + \n",
    "  <GEOM_FUNCTION>(\n",
    "     mapping = aes(<MAPPINGS>),\n",
    "     stat = <STAT>, \n",
    "     position = <POSITION>\n",
    "  ) +\n",
    "  <COORDINATE_FUNCTION> +\n",
    "  <FACET_FUNCTION>\n",
    " ```"
   ]
  },
  {
   "cell_type": "code",
   "execution_count": 30,
   "metadata": {},
   "outputs": [
    {
     "data": {
      "text/html": [
       "<table>\n",
       "<thead><tr><th scope=col>manufacturer</th><th scope=col>model</th><th scope=col>displ</th><th scope=col>year</th><th scope=col>cyl</th><th scope=col>trans</th><th scope=col>drv</th><th scope=col>cty</th><th scope=col>hwy</th><th scope=col>fl</th><th scope=col>class</th></tr></thead>\n",
       "<tbody>\n",
       "\t<tr><td>audi      </td><td>a4        </td><td>1.8       </td><td>1999      </td><td>4         </td><td>auto(l5)  </td><td>f         </td><td>18        </td><td>29        </td><td>p         </td><td>compact   </td></tr>\n",
       "\t<tr><td>audi      </td><td>a4        </td><td>1.8       </td><td>1999      </td><td>4         </td><td>manual(m5)</td><td>f         </td><td>21        </td><td>29        </td><td>p         </td><td>compact   </td></tr>\n",
       "\t<tr><td>audi      </td><td>a4        </td><td>2.0       </td><td>2008      </td><td>4         </td><td>manual(m6)</td><td>f         </td><td>20        </td><td>31        </td><td>p         </td><td>compact   </td></tr>\n",
       "\t<tr><td>audi      </td><td>a4        </td><td>2.0       </td><td>2008      </td><td>4         </td><td>auto(av)  </td><td>f         </td><td>21        </td><td>30        </td><td>p         </td><td>compact   </td></tr>\n",
       "\t<tr><td>audi      </td><td>a4        </td><td>2.8       </td><td>1999      </td><td>6         </td><td>auto(l5)  </td><td>f         </td><td>16        </td><td>26        </td><td>p         </td><td>compact   </td></tr>\n",
       "\t<tr><td>audi      </td><td>a4        </td><td>2.8       </td><td>1999      </td><td>6         </td><td>manual(m5)</td><td>f         </td><td>18        </td><td>26        </td><td>p         </td><td>compact   </td></tr>\n",
       "</tbody>\n",
       "</table>\n"
      ],
      "text/latex": [
       "\\begin{tabular}{r|lllllllllll}\n",
       " manufacturer & model & displ & year & cyl & trans & drv & cty & hwy & fl & class\\\\\n",
       "\\hline\n",
       "\t audi       & a4         & 1.8        & 1999       & 4          & auto(l5)   & f          & 18         & 29         & p          & compact   \\\\\n",
       "\t audi       & a4         & 1.8        & 1999       & 4          & manual(m5) & f          & 21         & 29         & p          & compact   \\\\\n",
       "\t audi       & a4         & 2.0        & 2008       & 4          & manual(m6) & f          & 20         & 31         & p          & compact   \\\\\n",
       "\t audi       & a4         & 2.0        & 2008       & 4          & auto(av)   & f          & 21         & 30         & p          & compact   \\\\\n",
       "\t audi       & a4         & 2.8        & 1999       & 6          & auto(l5)   & f          & 16         & 26         & p          & compact   \\\\\n",
       "\t audi       & a4         & 2.8        & 1999       & 6          & manual(m5) & f          & 18         & 26         & p          & compact   \\\\\n",
       "\\end{tabular}\n"
      ],
      "text/markdown": [
       "\n",
       "manufacturer | model | displ | year | cyl | trans | drv | cty | hwy | fl | class | \n",
       "|---|---|---|---|---|---|\n",
       "| audi       | a4         | 1.8        | 1999       | 4          | auto(l5)   | f          | 18         | 29         | p          | compact    | \n",
       "| audi       | a4         | 1.8        | 1999       | 4          | manual(m5) | f          | 21         | 29         | p          | compact    | \n",
       "| audi       | a4         | 2.0        | 2008       | 4          | manual(m6) | f          | 20         | 31         | p          | compact    | \n",
       "| audi       | a4         | 2.0        | 2008       | 4          | auto(av)   | f          | 21         | 30         | p          | compact    | \n",
       "| audi       | a4         | 2.8        | 1999       | 6          | auto(l5)   | f          | 16         | 26         | p          | compact    | \n",
       "| audi       | a4         | 2.8        | 1999       | 6          | manual(m5) | f          | 18         | 26         | p          | compact    | \n",
       "\n",
       "\n"
      ],
      "text/plain": [
       "  manufacturer model displ year cyl trans      drv cty hwy fl class  \n",
       "1 audi         a4    1.8   1999 4   auto(l5)   f   18  29  p  compact\n",
       "2 audi         a4    1.8   1999 4   manual(m5) f   21  29  p  compact\n",
       "3 audi         a4    2.0   2008 4   manual(m6) f   20  31  p  compact\n",
       "4 audi         a4    2.0   2008 4   auto(av)   f   21  30  p  compact\n",
       "5 audi         a4    2.8   1999 6   auto(l5)   f   16  26  p  compact\n",
       "6 audi         a4    2.8   1999 6   manual(m5) f   18  26  p  compact"
      ]
     },
     "metadata": {},
     "output_type": "display_data"
    }
   ],
   "source": [
    "# Ejemplo tidyverse\n",
    "# utiizando el dataset mpg incluido en ggplot2\n",
    "head(mpg)"
   ]
  },
  {
   "cell_type": "code",
   "execution_count": 31,
   "metadata": {},
   "outputs": [
    {
     "name": "stderr",
     "output_type": "stream",
     "text": [
      "`geom_smooth()` using method = 'loess'\n"
     ]
    },
    {
     "data": {},
     "metadata": {},
     "output_type": "display_data"
    },
    {
     "data": {
      "image/png": "[encoded data removed]",
      "text/plain": [
       "plot without title"
      ]
     },
     "metadata": {},
     "output_type": "display_data"
    }
   ],
   "source": [
    "# Graficando los datos con ggplot\n",
    "ggplot(data = mpg, mapping = aes(x = displ, y = hwy)) + \n",
    "  geom_point(mapping = aes(color = class)) + \n",
    "  geom_smooth()"
   ]
  },
  {
   "cell_type": "code",
   "execution_count": 32,
   "metadata": {},
   "outputs": [
    {
     "data": {},
     "metadata": {},
     "output_type": "display_data"
    },
    {
     "data": {
      "image/png": "[encoded data removed]",
      "text/plain": [
       "plot without title"
      ]
     },
     "metadata": {},
     "output_type": "display_data"
    }
   ],
   "source": [
    "# creando un diagrama de cajas\n",
    "ggplot(data = mpg, mapping = aes(x = class, y = hwy)) + \n",
    "  geom_boxplot()"
   ]
  },
  {
   "cell_type": "markdown",
   "metadata": {},
   "source": [
    "Ahora veamos como podemos manipular los datos con [dplyr](https://cran.r-project.org/web/packages/dplyr/)"
   ]
  },
  {
   "cell_type": "code",
   "execution_count": 33,
   "metadata": {},
   "outputs": [
    {
     "data": {
      "text/html": [
       "<table>\n",
       "<thead><tr><th scope=col>manufacturer</th><th scope=col>model</th><th scope=col>displ</th><th scope=col>year</th><th scope=col>cyl</th><th scope=col>trans</th><th scope=col>drv</th><th scope=col>cty</th><th scope=col>hwy</th><th scope=col>fl</th><th scope=col>class</th></tr></thead>\n",
       "<tbody>\n",
       "\t<tr><td>chevrolet         </td><td>c1500 suburban 2wd</td><td>5.3               </td><td>2008              </td><td>8                 </td><td>auto(l4)          </td><td>r                 </td><td>14                </td><td>20                </td><td>r                 </td><td>suv               </td></tr>\n",
       "\t<tr><td>chevrolet         </td><td>c1500 suburban 2wd</td><td>5.3               </td><td>2008              </td><td>8                 </td><td>auto(l4)          </td><td>r                 </td><td>11                </td><td>15                </td><td>e                 </td><td>suv               </td></tr>\n",
       "\t<tr><td>chevrolet         </td><td>c1500 suburban 2wd</td><td>5.3               </td><td>2008              </td><td>8                 </td><td>auto(l4)          </td><td>r                 </td><td>14                </td><td>20                </td><td>r                 </td><td>suv               </td></tr>\n",
       "\t<tr><td>chevrolet         </td><td>c1500 suburban 2wd</td><td>5.7               </td><td>1999              </td><td>8                 </td><td>auto(l4)          </td><td>r                 </td><td>13                </td><td>17                </td><td>r                 </td><td>suv               </td></tr>\n",
       "\t<tr><td>chevrolet         </td><td>c1500 suburban 2wd</td><td>6.0               </td><td>2008              </td><td>8                 </td><td>auto(l4)          </td><td>r                 </td><td>12                </td><td>17                </td><td>r                 </td><td>suv               </td></tr>\n",
       "\t<tr><td>chevrolet         </td><td>corvette          </td><td>5.7               </td><td>1999              </td><td>8                 </td><td>manual(m6)        </td><td>r                 </td><td>16                </td><td>26                </td><td>p                 </td><td>2seater           </td></tr>\n",
       "\t<tr><td>chevrolet         </td><td>corvette          </td><td>5.7               </td><td>1999              </td><td>8                 </td><td>auto(l4)          </td><td>r                 </td><td>15                </td><td>23                </td><td>p                 </td><td>2seater           </td></tr>\n",
       "\t<tr><td>chevrolet         </td><td>corvette          </td><td>6.2               </td><td>2008              </td><td>8                 </td><td>manual(m6)        </td><td>r                 </td><td>16                </td><td>26                </td><td>p                 </td><td>2seater           </td></tr>\n",
       "\t<tr><td>chevrolet         </td><td>corvette          </td><td>6.2               </td><td>2008              </td><td>8                 </td><td>auto(s6)          </td><td>r                 </td><td>15                </td><td>25                </td><td>p                 </td><td>2seater           </td></tr>\n",
       "\t<tr><td>chevrolet         </td><td>corvette          </td><td>7.0               </td><td>2008              </td><td>8                 </td><td>manual(m6)        </td><td>r                 </td><td>15                </td><td>24                </td><td>p                 </td><td>2seater           </td></tr>\n",
       "\t<tr><td>chevrolet         </td><td>k1500 tahoe 4wd   </td><td>5.3               </td><td>2008              </td><td>8                 </td><td>auto(l4)          </td><td>4                 </td><td>14                </td><td>19                </td><td>r                 </td><td>suv               </td></tr>\n",
       "\t<tr><td>chevrolet         </td><td>k1500 tahoe 4wd   </td><td>5.3               </td><td>2008              </td><td>8                 </td><td>auto(l4)          </td><td>4                 </td><td>11                </td><td>14                </td><td>e                 </td><td>suv               </td></tr>\n",
       "\t<tr><td>chevrolet         </td><td>k1500 tahoe 4wd   </td><td>5.7               </td><td>1999              </td><td>8                 </td><td>auto(l4)          </td><td>4                 </td><td>11                </td><td>15                </td><td>r                 </td><td>suv               </td></tr>\n",
       "\t<tr><td>chevrolet         </td><td>k1500 tahoe 4wd   </td><td>6.5               </td><td>1999              </td><td>8                 </td><td>auto(l4)          </td><td>4                 </td><td>14                </td><td>17                </td><td>d                 </td><td>suv               </td></tr>\n",
       "</tbody>\n",
       "</table>\n"
      ],
      "text/latex": [
       "\\begin{tabular}{r|lllllllllll}\n",
       " manufacturer & model & displ & year & cyl & trans & drv & cty & hwy & fl & class\\\\\n",
       "\\hline\n",
       "\t chevrolet          & c1500 suburban 2wd & 5.3                & 2008               & 8                  & auto(l4)           & r                  & 14                 & 20                 & r                  & suv               \\\\\n",
       "\t chevrolet          & c1500 suburban 2wd & 5.3                & 2008               & 8                  & auto(l4)           & r                  & 11                 & 15                 & e                  & suv               \\\\\n",
       "\t chevrolet          & c1500 suburban 2wd & 5.3                & 2008               & 8                  & auto(l4)           & r                  & 14                 & 20                 & r                  & suv               \\\\\n",
       "\t chevrolet          & c1500 suburban 2wd & 5.7                & 1999               & 8                  & auto(l4)           & r                  & 13                 & 17                 & r                  & suv               \\\\\n",
       "\t chevrolet          & c1500 suburban 2wd & 6.0                & 2008               & 8                  & auto(l4)           & r                  & 12                 & 17                 & r                  & suv               \\\\\n",
       "\t chevrolet          & corvette           & 5.7                & 1999               & 8                  & manual(m6)         & r                  & 16                 & 26                 & p                  & 2seater           \\\\\n",
       "\t chevrolet          & corvette           & 5.7                & 1999               & 8                  & auto(l4)           & r                  & 15                 & 23                 & p                  & 2seater           \\\\\n",
       "\t chevrolet          & corvette           & 6.2                & 2008               & 8                  & manual(m6)         & r                  & 16                 & 26                 & p                  & 2seater           \\\\\n",
       "\t chevrolet          & corvette           & 6.2                & 2008               & 8                  & auto(s6)           & r                  & 15                 & 25                 & p                  & 2seater           \\\\\n",
       "\t chevrolet          & corvette           & 7.0                & 2008               & 8                  & manual(m6)         & r                  & 15                 & 24                 & p                  & 2seater           \\\\\n",
       "\t chevrolet          & k1500 tahoe 4wd    & 5.3                & 2008               & 8                  & auto(l4)           & 4                  & 14                 & 19                 & r                  & suv               \\\\\n",
       "\t chevrolet          & k1500 tahoe 4wd    & 5.3                & 2008               & 8                  & auto(l4)           & 4                  & 11                 & 14                 & e                  & suv               \\\\\n",
       "\t chevrolet          & k1500 tahoe 4wd    & 5.7                & 1999               & 8                  & auto(l4)           & 4                  & 11                 & 15                 & r                  & suv               \\\\\n",
       "\t chevrolet          & k1500 tahoe 4wd    & 6.5                & 1999               & 8                  & auto(l4)           & 4                  & 14                 & 17                 & d                  & suv               \\\\\n",
       "\\end{tabular}\n"
      ],
      "text/markdown": [
       "\n",
       "manufacturer | model | displ | year | cyl | trans | drv | cty | hwy | fl | class | \n",
       "|---|---|---|---|---|---|---|---|---|---|---|---|---|---|\n",
       "| chevrolet          | c1500 suburban 2wd | 5.3                | 2008               | 8                  | auto(l4)           | r                  | 14                 | 20                 | r                  | suv                | \n",
       "| chevrolet          | c1500 suburban 2wd | 5.3                | 2008               | 8                  | auto(l4)           | r                  | 11                 | 15                 | e                  | suv                | \n",
       "| chevrolet          | c1500 suburban 2wd | 5.3                | 2008               | 8                  | auto(l4)           | r                  | 14                 | 20                 | r                  | suv                | \n",
       "| chevrolet          | c1500 suburban 2wd | 5.7                | 1999               | 8                  | auto(l4)           | r                  | 13                 | 17                 | r                  | suv                | \n",
       "| chevrolet          | c1500 suburban 2wd | 6.0                | 2008               | 8                  | auto(l4)           | r                  | 12                 | 17                 | r                  | suv                | \n",
       "| chevrolet          | corvette           | 5.7                | 1999               | 8                  | manual(m6)         | r                  | 16                 | 26                 | p                  | 2seater            | \n",
       "| chevrolet          | corvette           | 5.7                | 1999               | 8                  | auto(l4)           | r                  | 15                 | 23                 | p                  | 2seater            | \n",
       "| chevrolet          | corvette           | 6.2                | 2008               | 8                  | manual(m6)         | r                  | 16                 | 26                 | p                  | 2seater            | \n",
       "| chevrolet          | corvette           | 6.2                | 2008               | 8                  | auto(s6)           | r                  | 15                 | 25                 | p                  | 2seater            | \n",
       "| chevrolet          | corvette           | 7.0                | 2008               | 8                  | manual(m6)         | r                  | 15                 | 24                 | p                  | 2seater            | \n",
       "| chevrolet          | k1500 tahoe 4wd    | 5.3                | 2008               | 8                  | auto(l4)           | 4                  | 14                 | 19                 | r                  | suv                | \n",
       "| chevrolet          | k1500 tahoe 4wd    | 5.3                | 2008               | 8                  | auto(l4)           | 4                  | 11                 | 14                 | e                  | suv                | \n",
       "| chevrolet          | k1500 tahoe 4wd    | 5.7                | 1999               | 8                  | auto(l4)           | 4                  | 11                 | 15                 | r                  | suv                | \n",
       "| chevrolet          | k1500 tahoe 4wd    | 6.5                | 1999               | 8                  | auto(l4)           | 4                  | 14                 | 17                 | d                  | suv                | \n",
       "\n",
       "\n"
      ],
      "text/plain": [
       "   manufacturer model              displ year cyl trans      drv cty hwy fl\n",
       "1  chevrolet    c1500 suburban 2wd 5.3   2008 8   auto(l4)   r   14  20  r \n",
       "2  chevrolet    c1500 suburban 2wd 5.3   2008 8   auto(l4)   r   11  15  e \n",
       "3  chevrolet    c1500 suburban 2wd 5.3   2008 8   auto(l4)   r   14  20  r \n",
       "4  chevrolet    c1500 suburban 2wd 5.7   1999 8   auto(l4)   r   13  17  r \n",
       "5  chevrolet    c1500 suburban 2wd 6.0   2008 8   auto(l4)   r   12  17  r \n",
       "6  chevrolet    corvette           5.7   1999 8   manual(m6) r   16  26  p \n",
       "7  chevrolet    corvette           5.7   1999 8   auto(l4)   r   15  23  p \n",
       "8  chevrolet    corvette           6.2   2008 8   manual(m6) r   16  26  p \n",
       "9  chevrolet    corvette           6.2   2008 8   auto(s6)   r   15  25  p \n",
       "10 chevrolet    corvette           7.0   2008 8   manual(m6) r   15  24  p \n",
       "11 chevrolet    k1500 tahoe 4wd    5.3   2008 8   auto(l4)   4   14  19  r \n",
       "12 chevrolet    k1500 tahoe 4wd    5.3   2008 8   auto(l4)   4   11  14  e \n",
       "13 chevrolet    k1500 tahoe 4wd    5.7   1999 8   auto(l4)   4   11  15  r \n",
       "14 chevrolet    k1500 tahoe 4wd    6.5   1999 8   auto(l4)   4   14  17  d \n",
       "   class  \n",
       "1  suv    \n",
       "2  suv    \n",
       "3  suv    \n",
       "4  suv    \n",
       "5  suv    \n",
       "6  2seater\n",
       "7  2seater\n",
       "8  2seater\n",
       "9  2seater\n",
       "10 2seater\n",
       "11 suv    \n",
       "12 suv    \n",
       "13 suv    \n",
       "14 suv    "
      ]
     },
     "metadata": {},
     "output_type": "display_data"
    }
   ],
   "source": [
    "# Ejemplo dplyr\n",
    "# usando filter para encontrar los modelos de chevrolet de 8 cilindros.\n",
    "(chev <- filter(mpg, cyl == 8, manufacturer == 'chevrolet'))"
   ]
  },
  {
   "cell_type": "code",
   "execution_count": 34,
   "metadata": {},
   "outputs": [
    {
     "data": {
      "text/html": [
       "<table>\n",
       "<thead><tr><th scope=col>manufacturer</th><th scope=col>model</th><th scope=col>displ</th><th scope=col>year</th><th scope=col>cyl</th><th scope=col>trans</th><th scope=col>drv</th><th scope=col>cty</th><th scope=col>hwy</th><th scope=col>fl</th><th scope=col>class</th></tr></thead>\n",
       "<tbody>\n",
       "\t<tr><td>audi      </td><td>a4        </td><td>1.8       </td><td>1999      </td><td>4         </td><td>auto(l5)  </td><td>f         </td><td>18        </td><td>29        </td><td>p         </td><td>compact   </td></tr>\n",
       "\t<tr><td>audi      </td><td>a4        </td><td>1.8       </td><td>1999      </td><td>4         </td><td>manual(m5)</td><td>f         </td><td>21        </td><td>29        </td><td>p         </td><td>compact   </td></tr>\n",
       "\t<tr><td>audi      </td><td>a4        </td><td>2.0       </td><td>2008      </td><td>4         </td><td>manual(m6)</td><td>f         </td><td>20        </td><td>31        </td><td>p         </td><td>compact   </td></tr>\n",
       "\t<tr><td>audi      </td><td>a4        </td><td>2.0       </td><td>2008      </td><td>4         </td><td>auto(av)  </td><td>f         </td><td>21        </td><td>30        </td><td>p         </td><td>compact   </td></tr>\n",
       "\t<tr><td>audi      </td><td>a4        </td><td>2.8       </td><td>1999      </td><td>6         </td><td>auto(l5)  </td><td>f         </td><td>16        </td><td>26        </td><td>p         </td><td>compact   </td></tr>\n",
       "\t<tr><td>audi      </td><td>a4        </td><td>2.8       </td><td>1999      </td><td>6         </td><td>manual(m5)</td><td>f         </td><td>18        </td><td>26        </td><td>p         </td><td>compact   </td></tr>\n",
       "\t<tr><td>audi      </td><td>a4        </td><td>3.1       </td><td>2008      </td><td>6         </td><td>auto(av)  </td><td>f         </td><td>18        </td><td>27        </td><td>p         </td><td>compact   </td></tr>\n",
       "\t<tr><td>audi      </td><td>a4 quattro</td><td>1.8       </td><td>1999      </td><td>4         </td><td>manual(m5)</td><td>4         </td><td>18        </td><td>26        </td><td>p         </td><td>compact   </td></tr>\n",
       "\t<tr><td>audi      </td><td>a4 quattro</td><td>1.8       </td><td>1999      </td><td>4         </td><td>auto(l5)  </td><td>4         </td><td>16        </td><td>25        </td><td>p         </td><td>compact   </td></tr>\n",
       "\t<tr><td>audi      </td><td>a4 quattro</td><td>2.0       </td><td>2008      </td><td>4         </td><td>manual(m6)</td><td>4         </td><td>20        </td><td>28        </td><td>p         </td><td>compact   </td></tr>\n",
       "\t<tr><td>audi      </td><td>a4 quattro</td><td>2.0       </td><td>2008      </td><td>4         </td><td>auto(s6)  </td><td>4         </td><td>19        </td><td>27        </td><td>p         </td><td>compact   </td></tr>\n",
       "\t<tr><td>audi      </td><td>a4 quattro</td><td>2.8       </td><td>1999      </td><td>6         </td><td>auto(l5)  </td><td>4         </td><td>15        </td><td>25        </td><td>p         </td><td>compact   </td></tr>\n",
       "\t<tr><td>audi      </td><td>a4 quattro</td><td>2.8       </td><td>1999      </td><td>6         </td><td>manual(m5)</td><td>4         </td><td>17        </td><td>25        </td><td>p         </td><td>compact   </td></tr>\n",
       "\t<tr><td>audi      </td><td>a4 quattro</td><td>3.1       </td><td>2008      </td><td>6         </td><td>auto(s6)  </td><td>4         </td><td>17        </td><td>25        </td><td>p         </td><td>compact   </td></tr>\n",
       "\t<tr><td>audi      </td><td>a4 quattro</td><td>3.1       </td><td>2008      </td><td>6         </td><td>manual(m6)</td><td>4         </td><td>15        </td><td>25        </td><td>p         </td><td>compact   </td></tr>\n",
       "\t<tr><td>audi      </td><td>a6 quattro</td><td>2.8       </td><td>1999      </td><td>6         </td><td>auto(l5)  </td><td>4         </td><td>15        </td><td>24        </td><td>p         </td><td>midsize   </td></tr>\n",
       "\t<tr><td>audi      </td><td>a6 quattro</td><td>3.1       </td><td>2008      </td><td>6         </td><td>auto(s6)  </td><td>4         </td><td>17        </td><td>25        </td><td>p         </td><td>midsize   </td></tr>\n",
       "</tbody>\n",
       "</table>\n"
      ],
      "text/latex": [
       "\\begin{tabular}{r|lllllllllll}\n",
       " manufacturer & model & displ & year & cyl & trans & drv & cty & hwy & fl & class\\\\\n",
       "\\hline\n",
       "\t audi       & a4         & 1.8        & 1999       & 4          & auto(l5)   & f          & 18         & 29         & p          & compact   \\\\\n",
       "\t audi       & a4         & 1.8        & 1999       & 4          & manual(m5) & f          & 21         & 29         & p          & compact   \\\\\n",
       "\t audi       & a4         & 2.0        & 2008       & 4          & manual(m6) & f          & 20         & 31         & p          & compact   \\\\\n",
       "\t audi       & a4         & 2.0        & 2008       & 4          & auto(av)   & f          & 21         & 30         & p          & compact   \\\\\n",
       "\t audi       & a4         & 2.8        & 1999       & 6          & auto(l5)   & f          & 16         & 26         & p          & compact   \\\\\n",
       "\t audi       & a4         & 2.8        & 1999       & 6          & manual(m5) & f          & 18         & 26         & p          & compact   \\\\\n",
       "\t audi       & a4         & 3.1        & 2008       & 6          & auto(av)   & f          & 18         & 27         & p          & compact   \\\\\n",
       "\t audi       & a4 quattro & 1.8        & 1999       & 4          & manual(m5) & 4          & 18         & 26         & p          & compact   \\\\\n",
       "\t audi       & a4 quattro & 1.8        & 1999       & 4          & auto(l5)   & 4          & 16         & 25         & p          & compact   \\\\\n",
       "\t audi       & a4 quattro & 2.0        & 2008       & 4          & manual(m6) & 4          & 20         & 28         & p          & compact   \\\\\n",
       "\t audi       & a4 quattro & 2.0        & 2008       & 4          & auto(s6)   & 4          & 19         & 27         & p          & compact   \\\\\n",
       "\t audi       & a4 quattro & 2.8        & 1999       & 6          & auto(l5)   & 4          & 15         & 25         & p          & compact   \\\\\n",
       "\t audi       & a4 quattro & 2.8        & 1999       & 6          & manual(m5) & 4          & 17         & 25         & p          & compact   \\\\\n",
       "\t audi       & a4 quattro & 3.1        & 2008       & 6          & auto(s6)   & 4          & 17         & 25         & p          & compact   \\\\\n",
       "\t audi       & a4 quattro & 3.1        & 2008       & 6          & manual(m6) & 4          & 15         & 25         & p          & compact   \\\\\n",
       "\t audi       & a6 quattro & 2.8        & 1999       & 6          & auto(l5)   & 4          & 15         & 24         & p          & midsize   \\\\\n",
       "\t audi       & a6 quattro & 3.1        & 2008       & 6          & auto(s6)   & 4          & 17         & 25         & p          & midsize   \\\\\n",
       "\\end{tabular}\n"
      ],
      "text/markdown": [
       "\n",
       "manufacturer | model | displ | year | cyl | trans | drv | cty | hwy | fl | class | \n",
       "|---|---|---|---|---|---|---|---|---|---|---|---|---|---|---|---|---|\n",
       "| audi       | a4         | 1.8        | 1999       | 4          | auto(l5)   | f          | 18         | 29         | p          | compact    | \n",
       "| audi       | a4         | 1.8        | 1999       | 4          | manual(m5) | f          | 21         | 29         | p          | compact    | \n",
       "| audi       | a4         | 2.0        | 2008       | 4          | manual(m6) | f          | 20         | 31         | p          | compact    | \n",
       "| audi       | a4         | 2.0        | 2008       | 4          | auto(av)   | f          | 21         | 30         | p          | compact    | \n",
       "| audi       | a4         | 2.8        | 1999       | 6          | auto(l5)   | f          | 16         | 26         | p          | compact    | \n",
       "| audi       | a4         | 2.8        | 1999       | 6          | manual(m5) | f          | 18         | 26         | p          | compact    | \n",
       "| audi       | a4         | 3.1        | 2008       | 6          | auto(av)   | f          | 18         | 27         | p          | compact    | \n",
       "| audi       | a4 quattro | 1.8        | 1999       | 4          | manual(m5) | 4          | 18         | 26         | p          | compact    | \n",
       "| audi       | a4 quattro | 1.8        | 1999       | 4          | auto(l5)   | 4          | 16         | 25         | p          | compact    | \n",
       "| audi       | a4 quattro | 2.0        | 2008       | 4          | manual(m6) | 4          | 20         | 28         | p          | compact    | \n",
       "| audi       | a4 quattro | 2.0        | 2008       | 4          | auto(s6)   | 4          | 19         | 27         | p          | compact    | \n",
       "| audi       | a4 quattro | 2.8        | 1999       | 6          | auto(l5)   | 4          | 15         | 25         | p          | compact    | \n",
       "| audi       | a4 quattro | 2.8        | 1999       | 6          | manual(m5) | 4          | 17         | 25         | p          | compact    | \n",
       "| audi       | a4 quattro | 3.1        | 2008       | 6          | auto(s6)   | 4          | 17         | 25         | p          | compact    | \n",
       "| audi       | a4 quattro | 3.1        | 2008       | 6          | manual(m6) | 4          | 15         | 25         | p          | compact    | \n",
       "| audi       | a6 quattro | 2.8        | 1999       | 6          | auto(l5)   | 4          | 15         | 24         | p          | midsize    | \n",
       "| audi       | a6 quattro | 3.1        | 2008       | 6          | auto(s6)   | 4          | 17         | 25         | p          | midsize    | \n",
       "\n",
       "\n"
      ],
      "text/plain": [
       "   manufacturer model      displ year cyl trans      drv cty hwy fl class  \n",
       "1  audi         a4         1.8   1999 4   auto(l5)   f   18  29  p  compact\n",
       "2  audi         a4         1.8   1999 4   manual(m5) f   21  29  p  compact\n",
       "3  audi         a4         2.0   2008 4   manual(m6) f   20  31  p  compact\n",
       "4  audi         a4         2.0   2008 4   auto(av)   f   21  30  p  compact\n",
       "5  audi         a4         2.8   1999 6   auto(l5)   f   16  26  p  compact\n",
       "6  audi         a4         2.8   1999 6   manual(m5) f   18  26  p  compact\n",
       "7  audi         a4         3.1   2008 6   auto(av)   f   18  27  p  compact\n",
       "8  audi         a4 quattro 1.8   1999 4   manual(m5) 4   18  26  p  compact\n",
       "9  audi         a4 quattro 1.8   1999 4   auto(l5)   4   16  25  p  compact\n",
       "10 audi         a4 quattro 2.0   2008 4   manual(m6) 4   20  28  p  compact\n",
       "11 audi         a4 quattro 2.0   2008 4   auto(s6)   4   19  27  p  compact\n",
       "12 audi         a4 quattro 2.8   1999 6   auto(l5)   4   15  25  p  compact\n",
       "13 audi         a4 quattro 2.8   1999 6   manual(m5) 4   17  25  p  compact\n",
       "14 audi         a4 quattro 3.1   2008 6   auto(s6)   4   17  25  p  compact\n",
       "15 audi         a4 quattro 3.1   2008 6   manual(m6) 4   15  25  p  compact\n",
       "16 audi         a6 quattro 2.8   1999 6   auto(l5)   4   15  24  p  midsize\n",
       "17 audi         a6 quattro 3.1   2008 6   auto(s6)   4   17  25  p  midsize"
      ]
     },
     "metadata": {},
     "output_type": "display_data"
    }
   ],
   "source": [
    "# filtrado más avanzado\n",
    "filter(mpg, cyl %in% c(4, 6) & manufacturer == 'audi')"
   ]
  },
  {
   "cell_type": "code",
   "execution_count": 35,
   "metadata": {},
   "outputs": [
    {
     "data": {
      "text/html": [
       "<table>\n",
       "<thead><tr><th scope=col>manufacturer</th><th scope=col>model</th><th scope=col>displ</th><th scope=col>year</th><th scope=col>cyl</th><th scope=col>trans</th><th scope=col>drv</th><th scope=col>cty</th><th scope=col>hwy</th><th scope=col>fl</th><th scope=col>class</th></tr></thead>\n",
       "<tbody>\n",
       "\t<tr><td>chevrolet </td><td>corvette  </td><td>5.7       </td><td>1999      </td><td>8         </td><td>manual(m6)</td><td>r         </td><td>16        </td><td>26        </td><td>p         </td><td>2seater   </td></tr>\n",
       "\t<tr><td>chevrolet </td><td>corvette  </td><td>5.7       </td><td>1999      </td><td>8         </td><td>auto(l4)  </td><td>r         </td><td>15        </td><td>23        </td><td>p         </td><td>2seater   </td></tr>\n",
       "\t<tr><td>audi      </td><td>a4        </td><td>1.8       </td><td>1999      </td><td>4         </td><td>auto(l5)  </td><td>f         </td><td>18        </td><td>29        </td><td>p         </td><td>compact   </td></tr>\n",
       "\t<tr><td>audi      </td><td>a4        </td><td>1.8       </td><td>1999      </td><td>4         </td><td>manual(m5)</td><td>f         </td><td>21        </td><td>29        </td><td>p         </td><td>compact   </td></tr>\n",
       "\t<tr><td>audi      </td><td>a4        </td><td>2.8       </td><td>1999      </td><td>6         </td><td>auto(l5)  </td><td>f         </td><td>16        </td><td>26        </td><td>p         </td><td>compact   </td></tr>\n",
       "\t<tr><td>audi      </td><td>a4        </td><td>2.8       </td><td>1999      </td><td>6         </td><td>manual(m5)</td><td>f         </td><td>18        </td><td>26        </td><td>p         </td><td>compact   </td></tr>\n",
       "</tbody>\n",
       "</table>\n"
      ],
      "text/latex": [
       "\\begin{tabular}{r|lllllllllll}\n",
       " manufacturer & model & displ & year & cyl & trans & drv & cty & hwy & fl & class\\\\\n",
       "\\hline\n",
       "\t chevrolet  & corvette   & 5.7        & 1999       & 8          & manual(m6) & r          & 16         & 26         & p          & 2seater   \\\\\n",
       "\t chevrolet  & corvette   & 5.7        & 1999       & 8          & auto(l4)   & r          & 15         & 23         & p          & 2seater   \\\\\n",
       "\t audi       & a4         & 1.8        & 1999       & 4          & auto(l5)   & f          & 18         & 29         & p          & compact   \\\\\n",
       "\t audi       & a4         & 1.8        & 1999       & 4          & manual(m5) & f          & 21         & 29         & p          & compact   \\\\\n",
       "\t audi       & a4         & 2.8        & 1999       & 6          & auto(l5)   & f          & 16         & 26         & p          & compact   \\\\\n",
       "\t audi       & a4         & 2.8        & 1999       & 6          & manual(m5) & f          & 18         & 26         & p          & compact   \\\\\n",
       "\\end{tabular}\n"
      ],
      "text/markdown": [
       "\n",
       "manufacturer | model | displ | year | cyl | trans | drv | cty | hwy | fl | class | \n",
       "|---|---|---|---|---|---|\n",
       "| chevrolet  | corvette   | 5.7        | 1999       | 8          | manual(m6) | r          | 16         | 26         | p          | 2seater    | \n",
       "| chevrolet  | corvette   | 5.7        | 1999       | 8          | auto(l4)   | r          | 15         | 23         | p          | 2seater    | \n",
       "| audi       | a4         | 1.8        | 1999       | 4          | auto(l5)   | f          | 18         | 29         | p          | compact    | \n",
       "| audi       | a4         | 1.8        | 1999       | 4          | manual(m5) | f          | 21         | 29         | p          | compact    | \n",
       "| audi       | a4         | 2.8        | 1999       | 6          | auto(l5)   | f          | 16         | 26         | p          | compact    | \n",
       "| audi       | a4         | 2.8        | 1999       | 6          | manual(m5) | f          | 18         | 26         | p          | compact    | \n",
       "\n",
       "\n"
      ],
      "text/plain": [
       "  manufacturer model    displ year cyl trans      drv cty hwy fl class  \n",
       "1 chevrolet    corvette 5.7   1999 8   manual(m6) r   16  26  p  2seater\n",
       "2 chevrolet    corvette 5.7   1999 8   auto(l4)   r   15  23  p  2seater\n",
       "3 audi         a4       1.8   1999 4   auto(l5)   f   18  29  p  compact\n",
       "4 audi         a4       1.8   1999 4   manual(m5) f   21  29  p  compact\n",
       "5 audi         a4       2.8   1999 6   auto(l5)   f   16  26  p  compact\n",
       "6 audi         a4       2.8   1999 6   manual(m5) f   18  26  p  compact"
      ]
     },
     "metadata": {},
     "output_type": "display_data"
    }
   ],
   "source": [
    "# Ordenar por year, class y manufacturer\n",
    "head(arrange(mpg, year, class, manufacturer))"
   ]
  },
  {
   "cell_type": "code",
   "execution_count": 36,
   "metadata": {},
   "outputs": [
    {
     "data": {
      "text/html": [
       "<table>\n",
       "<thead><tr><th scope=col>year</th><th scope=col>class</th><th scope=col>manufacturer</th></tr></thead>\n",
       "<tbody>\n",
       "\t<tr><td>1999   </td><td>compact</td><td>audi   </td></tr>\n",
       "\t<tr><td>1999   </td><td>compact</td><td>audi   </td></tr>\n",
       "\t<tr><td>2008   </td><td>compact</td><td>audi   </td></tr>\n",
       "\t<tr><td>2008   </td><td>compact</td><td>audi   </td></tr>\n",
       "\t<tr><td>1999   </td><td>compact</td><td>audi   </td></tr>\n",
       "\t<tr><td>1999   </td><td>compact</td><td>audi   </td></tr>\n",
       "</tbody>\n",
       "</table>\n"
      ],
      "text/latex": [
       "\\begin{tabular}{r|lll}\n",
       " year & class & manufacturer\\\\\n",
       "\\hline\n",
       "\t 1999    & compact & audi   \\\\\n",
       "\t 1999    & compact & audi   \\\\\n",
       "\t 2008    & compact & audi   \\\\\n",
       "\t 2008    & compact & audi   \\\\\n",
       "\t 1999    & compact & audi   \\\\\n",
       "\t 1999    & compact & audi   \\\\\n",
       "\\end{tabular}\n"
      ],
      "text/markdown": [
       "\n",
       "year | class | manufacturer | \n",
       "|---|---|---|---|---|---|\n",
       "| 1999    | compact | audi    | \n",
       "| 1999    | compact | audi    | \n",
       "| 2008    | compact | audi    | \n",
       "| 2008    | compact | audi    | \n",
       "| 1999    | compact | audi    | \n",
       "| 1999    | compact | audi    | \n",
       "\n",
       "\n"
      ],
      "text/plain": [
       "  year class   manufacturer\n",
       "1 1999 compact audi        \n",
       "2 1999 compact audi        \n",
       "3 2008 compact audi        \n",
       "4 2008 compact audi        \n",
       "5 1999 compact audi        \n",
       "6 1999 compact audi        "
      ]
     },
     "metadata": {},
     "output_type": "display_data"
    }
   ],
   "source": [
    "# Seleccinando columnas por nombre\n",
    "head(select(mpg, year, class, manufacturer))"
   ]
  },
  {
   "cell_type": "code",
   "execution_count": 37,
   "metadata": {},
   "outputs": [
    {
     "data": {
      "text/html": [
       "<table>\n",
       "<thead><tr><th scope=col>displ_mean</th></tr></thead>\n",
       "<tbody>\n",
       "\t<tr><td>3.471795</td></tr>\n",
       "</tbody>\n",
       "</table>\n"
      ],
      "text/latex": [
       "\\begin{tabular}{r|l}\n",
       " displ\\_mean\\\\\n",
       "\\hline\n",
       "\t 3.471795\\\\\n",
       "\\end{tabular}\n"
      ],
      "text/markdown": [
       "\n",
       "displ_mean | \n",
       "|---|\n",
       "| 3.471795 | \n",
       "\n",
       "\n"
      ],
      "text/plain": [
       "  displ_mean\n",
       "1 3.471795  "
      ]
     },
     "metadata": {},
     "output_type": "display_data"
    }
   ],
   "source": [
    "# sumariazando\n",
    "summarise(mpg, displ_mean = mean(displ, na.rm = TRUE))"
   ]
  },
  {
   "cell_type": "code",
   "execution_count": 38,
   "metadata": {},
   "outputs": [
    {
     "data": {
      "text/html": [
       "<table>\n",
       "<thead><tr><th scope=col>manufacturer</th><th scope=col>year</th><th scope=col>model</th><th scope=col>count</th></tr></thead>\n",
       "<tbody>\n",
       "\t<tr><td>chevrolet         </td><td>1999              </td><td>c1500 suburban 2wd</td><td>1                 </td></tr>\n",
       "\t<tr><td>chevrolet         </td><td>1999              </td><td>corvette          </td><td>2                 </td></tr>\n",
       "\t<tr><td>chevrolet         </td><td>1999              </td><td>k1500 tahoe 4wd   </td><td>2                 </td></tr>\n",
       "\t<tr><td>chevrolet         </td><td>1999              </td><td>malibu            </td><td>2                 </td></tr>\n",
       "\t<tr><td>chevrolet         </td><td>2008              </td><td>c1500 suburban 2wd</td><td>4                 </td></tr>\n",
       "\t<tr><td>chevrolet         </td><td>2008              </td><td>corvette          </td><td>3                 </td></tr>\n",
       "\t<tr><td>chevrolet         </td><td>2008              </td><td>k1500 tahoe 4wd   </td><td>2                 </td></tr>\n",
       "\t<tr><td>chevrolet         </td><td>2008              </td><td>malibu            </td><td>3                 </td></tr>\n",
       "</tbody>\n",
       "</table>\n"
      ],
      "text/latex": [
       "\\begin{tabular}{r|llll}\n",
       " manufacturer & year & model & count\\\\\n",
       "\\hline\n",
       "\t chevrolet          & 1999               & c1500 suburban 2wd & 1                 \\\\\n",
       "\t chevrolet          & 1999               & corvette           & 2                 \\\\\n",
       "\t chevrolet          & 1999               & k1500 tahoe 4wd    & 2                 \\\\\n",
       "\t chevrolet          & 1999               & malibu             & 2                 \\\\\n",
       "\t chevrolet          & 2008               & c1500 suburban 2wd & 4                 \\\\\n",
       "\t chevrolet          & 2008               & corvette           & 3                 \\\\\n",
       "\t chevrolet          & 2008               & k1500 tahoe 4wd    & 2                 \\\\\n",
       "\t chevrolet          & 2008               & malibu             & 3                 \\\\\n",
       "\\end{tabular}\n"
      ],
      "text/markdown": [
       "\n",
       "manufacturer | year | model | count | \n",
       "|---|---|---|---|---|---|---|---|\n",
       "| chevrolet          | 1999               | c1500 suburban 2wd | 1                  | \n",
       "| chevrolet          | 1999               | corvette           | 2                  | \n",
       "| chevrolet          | 1999               | k1500 tahoe 4wd    | 2                  | \n",
       "| chevrolet          | 1999               | malibu             | 2                  | \n",
       "| chevrolet          | 2008               | c1500 suburban 2wd | 4                  | \n",
       "| chevrolet          | 2008               | corvette           | 3                  | \n",
       "| chevrolet          | 2008               | k1500 tahoe 4wd    | 2                  | \n",
       "| chevrolet          | 2008               | malibu             | 3                  | \n",
       "\n",
       "\n"
      ],
      "text/plain": [
       "  manufacturer year model              count\n",
       "1 chevrolet    1999 c1500 suburban 2wd 1    \n",
       "2 chevrolet    1999 corvette           2    \n",
       "3 chevrolet    1999 k1500 tahoe 4wd    2    \n",
       "4 chevrolet    1999 malibu             2    \n",
       "5 chevrolet    2008 c1500 suburban 2wd 4    \n",
       "6 chevrolet    2008 corvette           3    \n",
       "7 chevrolet    2008 k1500 tahoe 4wd    2    \n",
       "8 chevrolet    2008 malibu             3    "
      ]
     },
     "metadata": {},
     "output_type": "display_data"
    }
   ],
   "source": [
    "# Combinando con pipe para obtener la cuenta de modelos por año.\n",
    "(chev <- group_by(mpg, manufacturer,year, model) %>% \n",
    " select(manufacturer, model, year) %>% \n",
    "    summarise(count= n()) %>% \n",
    "     filter(manufacturer == 'chevrolet'))"
   ]
  },
  {
   "cell_type": "markdown",
   "metadata": {
    "collapsed": true
   },
   "source": [
    "### Caret\n",
    "\n",
    "A la hora de simplificar el proceso de [Machine Learning](http://relopezbriega.github.io/blog/2015/10/10/machine-learning-con-python/), el paquete [Caret](https://cran.r-project.org/web/packages/caret/) puede sernos de gran ayuda. Este paquete nos ofrece una serie de herramientas para la construcción de modelos de [Machine Learning](http://relopezbriega.github.io/blog/2015/10/10/machine-learning-con-python/) en [R](https://cloud.r-project.org/). [Caret](https://cran.r-project.org/web/packages/caret/) nos proporciona herramientas esenciales para: la etapa de preparación de los datos, para dividir el conjunto de datos, seleccionar los principales atributos, y para evaluar los modelos. Veamos un pequeño ejemplo:"
   ]
  },
  {
   "cell_type": "code",
   "execution_count": 39,
   "metadata": {},
   "outputs": [
    {
     "data": {
      "text/html": [
       "<table>\n",
       "<thead><tr><th></th><th scope=col>mpg</th><th scope=col>cyl</th><th scope=col>disp</th><th scope=col>hp</th><th scope=col>drat</th><th scope=col>wt</th><th scope=col>qsec</th><th scope=col>vs</th><th scope=col>am</th><th scope=col>gear</th><th scope=col>carb</th></tr></thead>\n",
       "<tbody>\n",
       "\t<tr><th scope=row>Mazda RX4</th><td>21.0 </td><td>6    </td><td>160  </td><td>110  </td><td>3.90 </td><td>2.620</td><td>16.46</td><td>0    </td><td>1    </td><td>4    </td><td>4    </td></tr>\n",
       "\t<tr><th scope=row>Mazda RX4 Wag</th><td>21.0 </td><td>6    </td><td>160  </td><td>110  </td><td>3.90 </td><td>2.875</td><td>17.02</td><td>0    </td><td>1    </td><td>4    </td><td>4    </td></tr>\n",
       "\t<tr><th scope=row>Datsun 710</th><td>22.8 </td><td>4    </td><td>108  </td><td> 93  </td><td>3.85 </td><td>2.320</td><td>18.61</td><td>1    </td><td>1    </td><td>4    </td><td>1    </td></tr>\n",
       "\t<tr><th scope=row>Hornet 4 Drive</th><td>21.4 </td><td>6    </td><td>258  </td><td>110  </td><td>3.08 </td><td>3.215</td><td>19.44</td><td>1    </td><td>0    </td><td>3    </td><td>1    </td></tr>\n",
       "\t<tr><th scope=row>Hornet Sportabout</th><td>18.7 </td><td>8    </td><td>360  </td><td>175  </td><td>3.15 </td><td>3.440</td><td>17.02</td><td>0    </td><td>0    </td><td>3    </td><td>2    </td></tr>\n",
       "\t<tr><th scope=row>Valiant</th><td>18.1 </td><td>6    </td><td>225  </td><td>105  </td><td>2.76 </td><td>3.460</td><td>20.22</td><td>1    </td><td>0    </td><td>3    </td><td>1    </td></tr>\n",
       "</tbody>\n",
       "</table>\n"
      ],
      "text/latex": [
       "\\begin{tabular}{r|lllllllllll}\n",
       "  & mpg & cyl & disp & hp & drat & wt & qsec & vs & am & gear & carb\\\\\n",
       "\\hline\n",
       "\tMazda RX4 & 21.0  & 6     & 160   & 110   & 3.90  & 2.620 & 16.46 & 0     & 1     & 4     & 4    \\\\\n",
       "\tMazda RX4 Wag & 21.0  & 6     & 160   & 110   & 3.90  & 2.875 & 17.02 & 0     & 1     & 4     & 4    \\\\\n",
       "\tDatsun 710 & 22.8  & 4     & 108   &  93   & 3.85  & 2.320 & 18.61 & 1     & 1     & 4     & 1    \\\\\n",
       "\tHornet 4 Drive & 21.4  & 6     & 258   & 110   & 3.08  & 3.215 & 19.44 & 1     & 0     & 3     & 1    \\\\\n",
       "\tHornet Sportabout & 18.7  & 8     & 360   & 175   & 3.15  & 3.440 & 17.02 & 0     & 0     & 3     & 2    \\\\\n",
       "\tValiant & 18.1  & 6     & 225   & 105   & 2.76  & 3.460 & 20.22 & 1     & 0     & 3     & 1    \\\\\n",
       "\\end{tabular}\n"
      ],
      "text/markdown": [
       "\n",
       "| <!--/--> | mpg | cyl | disp | hp | drat | wt | qsec | vs | am | gear | carb | \n",
       "|---|---|---|---|---|---|\n",
       "| Mazda RX4 | 21.0  | 6     | 160   | 110   | 3.90  | 2.620 | 16.46 | 0     | 1     | 4     | 4     | \n",
       "| Mazda RX4 Wag | 21.0  | 6     | 160   | 110   | 3.90  | 2.875 | 17.02 | 0     | 1     | 4     | 4     | \n",
       "| Datsun 710 | 22.8  | 4     | 108   |  93   | 3.85  | 2.320 | 18.61 | 1     | 1     | 4     | 1     | \n",
       "| Hornet 4 Drive | 21.4  | 6     | 258   | 110   | 3.08  | 3.215 | 19.44 | 1     | 0     | 3     | 1     | \n",
       "| Hornet Sportabout | 18.7  | 8     | 360   | 175   | 3.15  | 3.440 | 17.02 | 0     | 0     | 3     | 2     | \n",
       "| Valiant | 18.1  | 6     | 225   | 105   | 2.76  | 3.460 | 20.22 | 1     | 0     | 3     | 1     | \n",
       "\n",
       "\n"
      ],
      "text/plain": [
       "                  mpg  cyl disp hp  drat wt    qsec  vs am gear carb\n",
       "Mazda RX4         21.0 6   160  110 3.90 2.620 16.46 0  1  4    4   \n",
       "Mazda RX4 Wag     21.0 6   160  110 3.90 2.875 17.02 0  1  4    4   \n",
       "Datsun 710        22.8 4   108   93 3.85 2.320 18.61 1  1  4    1   \n",
       "Hornet 4 Drive    21.4 6   258  110 3.08 3.215 19.44 1  0  3    1   \n",
       "Hornet Sportabout 18.7 8   360  175 3.15 3.440 17.02 0  0  3    2   \n",
       "Valiant           18.1 6   225  105 2.76 3.460 20.22 1  0  3    1   "
      ]
     },
     "metadata": {},
     "output_type": "display_data"
    }
   ],
   "source": [
    "# Ejemplo de Caret para modelado\n",
    "# utiizando el dataset mtcars incluido en ggplot2\n",
    "head(mtcars)"
   ]
  },
  {
   "cell_type": "code",
   "execution_count": 40,
   "metadata": {},
   "outputs": [
    {
     "data": {},
     "metadata": {},
     "output_type": "display_data"
    },
    {
     "data": {
      "image/png": "[encoded data removed]",
      "text/plain": [
       "plot without title"
      ]
     },
     "metadata": {},
     "output_type": "display_data"
    }
   ],
   "source": [
    "# Diagrama de dispersión para ver la relación entre atributos mpg y wt\n",
    "ggplot(data = mtcars, aes(x = wt, y = mpg)) +\n",
    "  geom_point()"
   ]
  },
  {
   "cell_type": "code",
   "execution_count": 42,
   "metadata": {},
   "outputs": [],
   "source": [
    "# Parece existir una relación.\n",
    "# construyendo el modelo con train\n",
    "require(caret)\n",
    "\n",
    "modelo.mtcars_lm <- train(mpg ~ wt\n",
    "                        ,mtcars\n",
    "                        ,method = \"lm\"\n",
    "                        )"
   ]
  },
  {
   "cell_type": "code",
   "execution_count": 44,
   "metadata": {},
   "outputs": [
    {
     "data": {
      "text/html": [
       "<strong>(Intercept):</strong> 37.285126167342"
      ],
      "text/latex": [
       "\\textbf{(Intercept):} 37.285126167342"
      ],
      "text/markdown": [
       "**(Intercept):** 37.285126167342"
      ],
      "text/plain": [
       "(Intercept) \n",
       "   37.28513 "
      ]
     },
     "metadata": {},
     "output_type": "display_data"
    }
   ],
   "source": [
    "# Obteniendo los coeficientes de  \n",
    "#  - pendiente\n",
    "#  - intercepcion\n",
    "coef.itercep <- coef(modelo.mtcars_lm$finalModel)[1]\n",
    "coef.pendiente <- coef(modelo.mtcars_lm$finalModel)[2]\n",
    "coef.itercep"
   ]
  },
  {
   "cell_type": "code",
   "execution_count": 45,
   "metadata": {},
   "outputs": [
    {
     "data": {
      "text/html": [
       "<strong>wt:</strong> -5.34447157272267"
      ],
      "text/latex": [
       "\\textbf{wt:} -5.34447157272267"
      ],
      "text/markdown": [
       "**wt:** -5.34447157272267"
      ],
      "text/plain": [
       "       wt \n",
       "-5.344472 "
      ]
     },
     "metadata": {},
     "output_type": "display_data"
    }
   ],
   "source": [
    "coef.pendiente"
   ]
  },
  {
   "cell_type": "code",
   "execution_count": 46,
   "metadata": {},
   "outputs": [
    {
     "data": {},
     "metadata": {},
     "output_type": "display_data"
    },
    {
     "data": {
      "image/png": "[encoded data removed]",
      "text/plain": [
       "plot without title"
      ]
     },
     "metadata": {},
     "output_type": "display_data"
    }
   ],
   "source": [
    "# Dibujando el modelo de regresión\n",
    "ggplot(data = mtcars, aes(x = wt, y = mpg)) +\n",
    "  geom_point() +\n",
    "  geom_abline(slope = coef.pendiente, intercept = coef.itercep, color = \"red\")"
   ]
  },
  {
   "cell_type": "markdown",
   "metadata": {
    "collapsed": true
   },
   "source": [
    "### Data.table\n",
    "\n",
    "Si de organizar grandes volúmenes de datos de una manera intuitiva se trata, [data.table](https://cran.r-project.org/web/packages/data.table/index.html) es el paquete indicado. Esta librería nos extiende la estructura de datos del dataFrame para poder trabajar con archivos realmente extensos, y poder realizar operaciones de agregado, agrupado y uniones de una forma más sencilla. Veamos como trabajar con ella:"
   ]
  },
  {
   "cell_type": "code",
   "execution_count": 48,
   "metadata": {},
   "outputs": [
    {
     "data": {
      "text/html": [
       "<ol class=list-inline>\n",
       "\t<li>'data.table'</li>\n",
       "\t<li>'data.frame'</li>\n",
       "</ol>\n"
      ],
      "text/latex": [
       "\\begin{enumerate*}\n",
       "\\item 'data.table'\n",
       "\\item 'data.frame'\n",
       "\\end{enumerate*}\n"
      ],
      "text/markdown": [
       "1. 'data.table'\n",
       "2. 'data.frame'\n",
       "\n",
       "\n"
      ],
      "text/plain": [
       "[1] \"data.table\" \"data.frame\""
      ]
     },
     "metadata": {},
     "output_type": "display_data"
    }
   ],
   "source": [
    "# Ejemplo data.table\n",
    "library(data.table)\n",
    " \n",
    "dt <- data.table(mtcars)\n",
    "class(dt)"
   ]
  },
  {
   "cell_type": "code",
   "execution_count": 49,
   "metadata": {},
   "outputs": [
    {
     "data": {
      "text/html": [
       "20.090625"
      ],
      "text/latex": [
       "20.090625"
      ],
      "text/markdown": [
       "20.090625"
      ],
      "text/plain": [
       "[1] 20.09062"
      ]
     },
     "metadata": {},
     "output_type": "display_data"
    }
   ],
   "source": [
    "# calculando la media\n",
    "dt[,mean(mpg)]"
   ]
  },
  {
   "cell_type": "code",
   "execution_count": 50,
   "metadata": {},
   "outputs": [
    {
     "data": {
      "text/html": [
       "<table>\n",
       "<thead><tr><th scope=col>am</th><th scope=col>V1</th></tr></thead>\n",
       "<tbody>\n",
       "\t<tr><td>1       </td><td>24.39231</td></tr>\n",
       "\t<tr><td>0       </td><td>17.14737</td></tr>\n",
       "</tbody>\n",
       "</table>\n"
      ],
      "text/latex": [
       "\\begin{tabular}{r|ll}\n",
       " am & V1\\\\\n",
       "\\hline\n",
       "\t 1        & 24.39231\\\\\n",
       "\t 0        & 17.14737\\\\\n",
       "\\end{tabular}\n"
      ],
      "text/markdown": [
       "\n",
       "am | V1 | \n",
       "|---|---|\n",
       "| 1        | 24.39231 | \n",
       "| 0        | 17.14737 | \n",
       "\n",
       "\n"
      ],
      "text/plain": [
       "  am V1      \n",
       "1 1  24.39231\n",
       "2 0  17.14737"
      ]
     },
     "metadata": {},
     "output_type": "display_data"
    }
   ],
   "source": [
    "# media por am\n",
    "dt[,mean(mpg),by=am]"
   ]
  },
  {
   "cell_type": "code",
   "execution_count": 51,
   "metadata": {},
   "outputs": [
    {
     "data": {
      "text/html": [
       "<table>\n",
       "<thead><tr><th scope=col>am</th><th scope=col>cyl</th><th scope=col>avg</th></tr></thead>\n",
       "<tbody>\n",
       "\t<tr><td>1       </td><td>6       </td><td>20.56667</td></tr>\n",
       "\t<tr><td>1       </td><td>4       </td><td>28.07500</td></tr>\n",
       "\t<tr><td>0       </td><td>6       </td><td>19.12500</td></tr>\n",
       "\t<tr><td>0       </td><td>8       </td><td>15.05000</td></tr>\n",
       "\t<tr><td>0       </td><td>4       </td><td>22.90000</td></tr>\n",
       "\t<tr><td>1       </td><td>8       </td><td>15.40000</td></tr>\n",
       "</tbody>\n",
       "</table>\n"
      ],
      "text/latex": [
       "\\begin{tabular}{r|lll}\n",
       " am & cyl & avg\\\\\n",
       "\\hline\n",
       "\t 1        & 6        & 20.56667\\\\\n",
       "\t 1        & 4        & 28.07500\\\\\n",
       "\t 0        & 6        & 19.12500\\\\\n",
       "\t 0        & 8        & 15.05000\\\\\n",
       "\t 0        & 4        & 22.90000\\\\\n",
       "\t 1        & 8        & 15.40000\\\\\n",
       "\\end{tabular}\n"
      ],
      "text/markdown": [
       "\n",
       "am | cyl | avg | \n",
       "|---|---|---|---|---|---|\n",
       "| 1        | 6        | 20.56667 | \n",
       "| 1        | 4        | 28.07500 | \n",
       "| 0        | 6        | 19.12500 | \n",
       "| 0        | 8        | 15.05000 | \n",
       "| 0        | 4        | 22.90000 | \n",
       "| 1        | 8        | 15.40000 | \n",
       "\n",
       "\n"
      ],
      "text/plain": [
       "  am cyl avg     \n",
       "1 1  6   20.56667\n",
       "2 1  4   28.07500\n",
       "3 0  6   19.12500\n",
       "4 0  8   15.05000\n",
       "5 0  4   22.90000\n",
       "6 1  8   15.40000"
      ]
     },
     "metadata": {},
     "output_type": "display_data"
    }
   ],
   "source": [
    "# con renombre de columna\n",
    "dt[,.(avg=mean(mpg)),by=.(am,cyl)]"
   ]
  },
  {
   "cell_type": "code",
   "execution_count": 52,
   "metadata": {},
   "outputs": [
    {
     "data": {
      "text/html": [
       "<table>\n",
       "<thead><tr><th scope=col>cyl</th><th scope=col>N</th></tr></thead>\n",
       "<tbody>\n",
       "\t<tr><td>6 </td><td> 7</td></tr>\n",
       "\t<tr><td>4 </td><td>11</td></tr>\n",
       "\t<tr><td>8 </td><td>14</td></tr>\n",
       "</tbody>\n",
       "</table>\n"
      ],
      "text/latex": [
       "\\begin{tabular}{r|ll}\n",
       " cyl & N\\\\\n",
       "\\hline\n",
       "\t 6  &  7\\\\\n",
       "\t 4  & 11\\\\\n",
       "\t 8  & 14\\\\\n",
       "\\end{tabular}\n"
      ],
      "text/markdown": [
       "\n",
       "cyl | N | \n",
       "|---|---|---|\n",
       "| 6  |  7 | \n",
       "| 4  | 11 | \n",
       "| 8  | 14 | \n",
       "\n",
       "\n"
      ],
      "text/plain": [
       "  cyl N \n",
       "1 6    7\n",
       "2 4   11\n",
       "3 8   14"
      ]
     },
     "metadata": {},
     "output_type": "display_data"
    }
   ],
   "source": [
    "# Contando el número de autos por cilindrada\n",
    "dt[, .N, by=cyl]  "
   ]
  },
  {
   "cell_type": "code",
   "execution_count": 53,
   "metadata": {},
   "outputs": [
    {
     "data": {
      "text/html": [
       "<table>\n",
       "<thead><tr><th scope=col>mpg</th><th scope=col>cyl</th><th scope=col>disp</th><th scope=col>hp</th><th scope=col>drat</th><th scope=col>wt</th><th scope=col>qsec</th><th scope=col>vs</th><th scope=col>am</th><th scope=col>gear</th><th scope=col>carb</th></tr></thead>\n",
       "<tbody>\n",
       "\t<tr><td>33.9 </td><td>4    </td><td>71.1 </td><td> 65  </td><td>4.22 </td><td>1.835</td><td>19.90</td><td>1    </td><td>1    </td><td>4    </td><td>1    </td></tr>\n",
       "\t<tr><td>32.4 </td><td>4    </td><td>78.7 </td><td> 66  </td><td>4.08 </td><td>2.200</td><td>19.47</td><td>1    </td><td>1    </td><td>4    </td><td>1    </td></tr>\n",
       "\t<tr><td>30.4 </td><td>4    </td><td>75.7 </td><td> 52  </td><td>4.93 </td><td>1.615</td><td>18.52</td><td>1    </td><td>1    </td><td>4    </td><td>2    </td></tr>\n",
       "\t<tr><td>30.4 </td><td>4    </td><td>95.1 </td><td>113  </td><td>3.77 </td><td>1.513</td><td>16.90</td><td>1    </td><td>1    </td><td>5    </td><td>2    </td></tr>\n",
       "\t<tr><td>27.3 </td><td>4    </td><td>79.0 </td><td> 66  </td><td>4.08 </td><td>1.935</td><td>18.90</td><td>1    </td><td>1    </td><td>4    </td><td>1    </td></tr>\n",
       "</tbody>\n",
       "</table>\n"
      ],
      "text/latex": [
       "\\begin{tabular}{r|lllllllllll}\n",
       " mpg & cyl & disp & hp & drat & wt & qsec & vs & am & gear & carb\\\\\n",
       "\\hline\n",
       "\t 33.9  & 4     & 71.1  &  65   & 4.22  & 1.835 & 19.90 & 1     & 1     & 4     & 1    \\\\\n",
       "\t 32.4  & 4     & 78.7  &  66   & 4.08  & 2.200 & 19.47 & 1     & 1     & 4     & 1    \\\\\n",
       "\t 30.4  & 4     & 75.7  &  52   & 4.93  & 1.615 & 18.52 & 1     & 1     & 4     & 2    \\\\\n",
       "\t 30.4  & 4     & 95.1  & 113   & 3.77  & 1.513 & 16.90 & 1     & 1     & 5     & 2    \\\\\n",
       "\t 27.3  & 4     & 79.0  &  66   & 4.08  & 1.935 & 18.90 & 1     & 1     & 4     & 1    \\\\\n",
       "\\end{tabular}\n"
      ],
      "text/markdown": [
       "\n",
       "mpg | cyl | disp | hp | drat | wt | qsec | vs | am | gear | carb | \n",
       "|---|---|---|---|---|\n",
       "| 33.9  | 4     | 71.1  |  65   | 4.22  | 1.835 | 19.90 | 1     | 1     | 4     | 1     | \n",
       "| 32.4  | 4     | 78.7  |  66   | 4.08  | 2.200 | 19.47 | 1     | 1     | 4     | 1     | \n",
       "| 30.4  | 4     | 75.7  |  52   | 4.93  | 1.615 | 18.52 | 1     | 1     | 4     | 2     | \n",
       "| 30.4  | 4     | 95.1  | 113   | 3.77  | 1.513 | 16.90 | 1     | 1     | 5     | 2     | \n",
       "| 27.3  | 4     | 79.0  |  66   | 4.08  | 1.935 | 18.90 | 1     | 1     | 4     | 1     | \n",
       "\n",
       "\n"
      ],
      "text/plain": [
       "  mpg  cyl disp hp  drat wt    qsec  vs am gear carb\n",
       "1 33.9 4   71.1  65 4.22 1.835 19.90 1  1  4    1   \n",
       "2 32.4 4   78.7  66 4.08 2.200 19.47 1  1  4    1   \n",
       "3 30.4 4   75.7  52 4.93 1.615 18.52 1  1  4    2   \n",
       "4 30.4 4   95.1 113 3.77 1.513 16.90 1  1  5    2   \n",
       "5 27.3 4   79.0  66 4.08 1.935 18.90 1  1  4    1   "
      ]
     },
     "metadata": {},
     "output_type": "display_data"
    }
   ],
   "source": [
    "# Los mejore 5 autos con la mejor MPG \n",
    "head(dt[order(-mpg)],5) "
   ]
  },
  {
   "cell_type": "markdown",
   "metadata": {},
   "source": [
    "## Otras librerías que deberíamos conocer\n",
    "\n",
    "### E1071\n",
    "\n",
    "Si lo que buscamos es trabajar con [Máquinas de vectores de soporte, SVM](https://es.wikipedia.org/wiki/M%C3%A1quinas_de_vectores_de_soporte); o con cualquiera de las principales funciones que podemos encontrar en las clases de probabilidad y estadística; entonces el paquete [E1071](https://cran.r-project.org/web/packages/e1071/) es exactamente lo que necesitamos. \n",
    "\n",
    "### randomForest\n",
    "\n",
    "Para trabajar específicamente con modelos de [Random Forest](https://es.wikipedia.org/wiki/Random_forest) el paquete [randomForest](https://cran.r-project.org/web/packages/randomForest/) puede ser una buena opción; este paquete nos permite crear este tipo de modelos en forma muy sencilla.\n",
    "\n",
    "### rpart\n",
    "\n",
    "El paquete [rpart](https://cran.r-project.org/web/packages/rpart/) es una buena alternativa para trabajar con árboles de clasificaciones. Implementa los principales algoritmos para trabajar con este tipo de modelos.\n",
    "\n",
    "### nnet\n",
    "\n",
    "Las [redes neuronales](http://relopezbriega.github.io/category/redes-neuronales.html) han recibido mucha atención últimamente por sus habilidades para *aprender* las relaciones entre las variables. Representan una técnica innovadora para la adaptación de los modelo que no se basa en los supuestos convencionales necesarios por el modelado estándar; y que además pueden manejar muy eficazmente los datos multivariantes. Un gran paquete para trabajar con [redes neuronales](http://relopezbriega.github.io/category/redes-neuronales.html) en forma muy sencilla es [nnet](https://cran.r-project.org/web/packages/nnet/).\n",
    "\n",
    "### igraph\n",
    "\n",
    "Si lo que necesitamos es analizar y visualizar redes y grafos, el paquete [igraph](https://cran.r-project.org/web/packages/igraph/) es la mejor opción. Este paquete nos proporciona una serie de rutinas altamente eficientes para visualizar y analizar las conexiones de las redes. \n",
    "\n",
    "### Outliers\n",
    "\n",
    "Si lo que necesitamos es encontrar valores atípicos, entonces [outliers](https://cran.r-project.org/web/packages/outliers/index.html) es el paquete que debemos utilizar. Esta librería nos ofrece varias funciones y tests para poder identificar los valores atípicos.   \n",
    "\n",
    "### Survival\n",
    "\n",
    "[Survival](https://cran.r-project.org/web/packages/survival/index.html) es un paquete que nos facilita la tarea de realizar [análisis de supervivencia](https://es.wikipedia.org/wiki/An%C3%A1lisis_de_la_supervivencia). \n",
    "\n",
    "### Forecast\n",
    "\n",
    "[Forecast](https://cran.r-project.org/web/packages/forecast/) proporciona métodos y herramientas para mostrar y analizar predicciones univariadas de [series de tiempo](http://relopezbriega.github.io/blog/2016/09/26/series-de-tiempo-con-python/), incluyendo el suavizado exponencial a través de modelos de espacios de estados y el modelado [ARIMA](https://es.wikipedia.org/wiki/Modelo_autorregresivo_integrado_de_media_m%C3%B3vil) automático."
   ]
  },
  {
   "cell_type": "markdown",
   "metadata": {
    "collapsed": true
   },
   "source": [
    "Aquí concluye este artículo; obviamente el objetivo del mismo es solo presentar [R](https://cloud.r-project.org/) y sus principales librerías para la ciencia de datos, dista mucho de ser un tutorial exhaustivo de como utilizar el lenguaje y existen muchas más librerías muy útiles que no fueron presentadas. \n",
    "\n",
    "Los que quieran profundizar en el lenguaje pueden realizar los siguientes cursos: [Programación Estadística con R](https://www.coursera.org/learn/intro-data-science-programacion-estadistica-r) o [Data analysis with R](https://www.udacity.com/course/data-analysis-with-r--ud651). Asimismo, si les gusto este artículo, no duden en visitar mi blog [relopezbriega.github.io](http://relopezbriega.github.io/)!\n",
    "\n",
    "Opiniones y comentarios son bienvenidos.\n",
    "\n",
    "Saludos!\n",
    "\n",
    "[Raúl e. López Briega](http://relopezbriega.github.io/)\n",
    "\n",
    "*Este post fue escrito utilizando IPython notebook. Pueden descargar este [notebook](https://github.com/IAARhub/iaar_template/tree/master/content/notebooks/IntroR.ipynb) o ver su version estática en [nbviewer](http://nbviewer.ipython.org/github/IAARhub/iaar_template/tree/master/content/notebooks/IntroR.ipynb).*"
   ]
  }
 ],
 "metadata": {
  "kernelspec": {
   "display_name": "R",
   "language": "R",
   "name": "ir"
  },
  "language_info": {
   "codemirror_mode": "r",
   "file_extension": ".r",
   "mimetype": "text/x-r-source",
   "name": "R",
   "pygments_lexer": "r",
   "version": "3.3.3"
  }
 },
 "nbformat": 4,
 "nbformat_minor": 2
}
